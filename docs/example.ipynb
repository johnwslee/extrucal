{
 "cells": [
  {
   "cell_type": "markdown",
   "metadata": {},
   "source": [
    "# Example usage\n",
    "\n",
    "To use `extrucal` in a project:"
   ]
  },
  {
   "cell_type": "code",
   "execution_count": 1,
   "metadata": {},
   "outputs": [
    {
     "name": "stdout",
     "output_type": "stream",
     "text": [
      "0.1.0\n"
     ]
    }
   ],
   "source": [
    "import extrucal\n",
    "\n",
    "print(extrucal.__version__)"
   ]
  },
  {
   "cell_type": "code",
   "execution_count": 2,
   "metadata": {},
   "outputs": [],
   "source": [
    "import pandas as pd\n",
    "import numpy as np"
   ]
  },
  {
   "cell_type": "code",
   "execution_count": 23,
   "metadata": {},
   "outputs": [],
   "source": [
    "import pandas as pd\n",
    "import numpy as np\n",
    "\n",
    "def throughput(size, pitch, w_flight, n_flight, depth, rpm, density):\n",
    "    \"\"\"\n",
    "    Calculates the extrusion throughput (Drag Flow) given the screw size, RPM,\n",
    "    the channel depth of metering channel, and screw pitch\n",
    "    ----------\n",
    "    size     : float\n",
    "               screw size [mm]\n",
    "    pitch    : float\n",
    "               screw pitch [mm]\n",
    "    w_flight : float\n",
    "               flight width [mm]\n",
    "    n_flight : int\n",
    "               number of flight [ea]\n",
    "    depth    : float\n",
    "               the channel depth of metering section [mm]\n",
    "    rpm      : float\n",
    "               screw RPM\n",
    "    density  : float\n",
    "               melt density of polymeric material [kg/m^3]\n",
    "\n",
    "    Returns\n",
    "    -------\n",
    "    float : volumetric throughput per rpm [kg/hr-RPM]\n",
    "\n",
    "    Examples\n",
    "    --------\n",
    "    >>> output_per_rpm(size=100, pitch=10, depth=5)\n",
    "    \"\"\"\n",
    "    \n",
    "    # Calculate basic variables\n",
    "    screw_root_size = size - (depth*2)\n",
    "    helix_angle_b = np.arctan(pitch/(np.pi*size))\n",
    "    helix_angle_c = np.arctan(pitch/(np.pi*screw_root_size))\n",
    "    channel_width_b = ((pitch/n_flight)*np.cos(helix_angle_b))-w_flight\n",
    "    channel_width_c = ((pitch/n_flight)*np.cos(helix_angle_c))-w_flight\n",
    "    avg_channel_width = (channel_width_b + channel_width_c)/2\n",
    "    \n",
    "    # Generates table for shape factor (Drag)\n",
    "    f_d_dict = dict()\n",
    "    idx = [1, 3, 5, 7, 9, 11, 13, 15, 17, 19, 21, 23, 25]\n",
    "    for i in idx:\n",
    "        f_d_dict[i] = (1/(i**3))*np.tanh((i*np.pi*depth)/(2*avg_channel_width))\n",
    "    f_d_df = pd.Series(f_d_dict)\n",
    "    \n",
    "    # Calculation of basic variables continues\n",
    "    shape_factor_drag = ((16*avg_channel_width)/(np.pi**3*depth))*f_d_df.sum()\n",
    "    rotation_per_sec = rpm/60\n",
    "    barrel_rot_speed = (np.pi*rotation_per_sec*size*np.cos(helix_angle_b))/1000\n",
    "    throughput_per_sec = (n_flight*density*barrel_rot_speed*(avg_channel_width/1000)*(depth/1000)*shape_factor_drag) / 2\n",
    "    throughput_per_hr = throughput_per_sec * 60 * 60\n",
    "\n",
    "    return round(throughput_per_hr, 2)"
   ]
  },
  {
   "cell_type": "code",
   "execution_count": 22,
   "metadata": {},
   "outputs": [
    {
     "data": {
      "text/plain": [
       "15.46"
      ]
     },
     "execution_count": 22,
     "metadata": {},
     "output_type": "execute_result"
    }
   ],
   "source": [
    "throughput(200, 100, 10, 1, 10, 1, 1000)"
   ]
  },
  {
   "cell_type": "code",
   "execution_count": null,
   "metadata": {},
   "outputs": [],
   "source": [
    "def throughput_table(size, pitch, w_flight, n_flight, min_depth, max_depth, delta_depth, min_rpm, max_rpm, delta_rpm, density):\n",
    "    \"\"\"\n",
    "    Generate a table containing the volumetric throughput with respect to \n",
    "    channel depth and screw RPM\n",
    "    ----------\n",
    "    size        : float\n",
    "                  screw size [mm]\n",
    "    pitch       : flot\n",
    "                  screw pitch [mm]\n",
    "    w_flight    : float\n",
    "                  flight width [mm]\n",
    "    n_flight    : int\n",
    "                  number of flight [ea]\n",
    "    min_depth   : float\n",
    "                  minimum depth for calculation [mm]\n",
    "    max_depth   : float\n",
    "                  maximum depth for calculation [mm]\n",
    "    delta_depth : float\n",
    "                  the amount of increment in depth for calculation [mm]\n",
    "    min_rpm     : float\n",
    "                  minimum screw RPM for calculation [RPM]\n",
    "    max_rpm     : float\n",
    "                  maximum screw RPM for calculation [RPM]\n",
    "    delta_rpm   : float\n",
    "                  the amount of increment in RPM for calculation [RPM]\n",
    "    density     : float\n",
    "                  melt density of polymeric material [kg/m^3]\n",
    "\n",
    "    Returns\n",
    "    -------\n",
    "    table : pandas.DataFrame\n",
    "            dataframe containing the throughput as a function of channel depth and screw RPM\n",
    "\n",
    "    Examples\n",
    "    --------\n",
    "    >>> output_table(size=100, pitch=10, min_depth=3, max_depth=7, delta_depth=1, min_rpm=10, max_rpm=50, delta_rpm=10)\n",
    "    \"\"\""
   ]
  },
  {
   "cell_type": "code",
   "execution_count": null,
   "metadata": {},
   "outputs": [],
   "source": [
    "def throughput_plot(size, pitch, w_flight, n_flight, min_depth, max_depth, delta_depth, min_rpm, max_rpm, delta_rpm, density):\n",
    "    \"\"\"\n",
    "    Generates a plot containing the volumetric throughput with respect to \n",
    "    channel depth and screw RPM\n",
    "    ----------\n",
    "    size        : float\n",
    "                  screw size [mm]\n",
    "    pitch       : flot\n",
    "                  screw pitch [mm]\n",
    "    w_flight    : float\n",
    "                  flight width [mm]\n",
    "    n_flight    : int\n",
    "                  number of flight [ea]\n",
    "    min_depth   : float\n",
    "                  minimum depth for calculation [mm]\n",
    "    max_depth   : float\n",
    "                  maximum depth for calculation [mm]\n",
    "    delta_depth : float\n",
    "                  the amount of increment in depth for calculation [mm]\n",
    "    min_rpm     : float\n",
    "                  minimum screw RPM for calculation [RPM]\n",
    "    max_rpm     : float\n",
    "                  maximum screw RPM for calculation [RPM]\n",
    "    delta_rpm   : float\n",
    "                  the amount of increment in RPM for calculation [RPM]\n",
    "    density     : float\n",
    "                  melt density of polymeric material [kg/m^3]\n",
    "\n",
    "    Returns\n",
    "    -------\n",
    "    plot : altair.Chart object\n",
    "           a line chart showing the throughput as a function of channel depth and screw RPM\n",
    "\n",
    "    Examples\n",
    "    --------\n",
    "    >>> output_plot(size=100, pitch=10, min_depth=3, max_depth=7, delta_depth=1, min_rpm=10, max_rpm=50, delta_rpm=10)\n",
    "    \"\"\""
   ]
  }
 ],
 "metadata": {
  "kernelspec": {
   "display_name": "Python [conda env:extrucal]",
   "language": "python",
   "name": "conda-env-extrucal-py"
  },
  "language_info": {
   "codemirror_mode": {
    "name": "ipython",
    "version": 3
   },
   "file_extension": ".py",
   "mimetype": "text/x-python",
   "name": "python",
   "nbconvert_exporter": "python",
   "pygments_lexer": "ipython3",
   "version": "3.9.10"
  }
 },
 "nbformat": 4,
 "nbformat_minor": 4
}
