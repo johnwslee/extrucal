{
 "cells": [
  {
   "cell_type": "markdown",
   "metadata": {},
   "source": [
    "# Example usage\n",
    "\n",
    "Here we will demonstrate how to use `extrucal` to calculate throughput in extrusion and generate the table and plot for throughput with various conditions."
   ]
  },
  {
   "cell_type": "markdown",
   "metadata": {},
   "source": [
    "## Imports"
   ]
  },
  {
   "cell_type": "code",
   "execution_count": 1,
   "metadata": {},
   "outputs": [],
   "source": [
    "from extrucal.extrusion import throughput_cal, throughput_table, throughput_plot"
   ]
  },
  {
   "cell_type": "markdown",
   "metadata": {},
   "source": [
    "## Calculate throughput in extrusion process\n",
    "\n",
    "`throughput(size, depth, density, rpm=1, pitch=None, w_flight=None, n_flight=1)` calculates the extrusion throughput (Drag Flow) given the screw size, RPM, the channel depth of metering channel, and screw pitch"
   ]
  },
  {
   "cell_type": "code",
   "execution_count": 2,
   "metadata": {},
   "outputs": [
    {
     "data": {
      "text/plain": [
       "23.51"
      ]
     },
     "execution_count": 2,
     "metadata": {},
     "output_type": "execute_result"
    }
   ],
   "source": [
    "throughput_cal(200, 10, 800)"
   ]
  },
  {
   "cell_type": "markdown",
   "metadata": {},
   "source": [
    "## Generate a table of throughput in extrusion process\n",
    "\n",
    "`throughput_table(size, density, pitch=None, w_flight=None, n_flight=1, min_depth=None, max_depth=None, delta_depth=None, min_rpm=5, max_rpm=50, delta_rpm=5)` generate a table containing the volumetric throughput with respect to \n",
    "    channel depth and screw RPM"
   ]
  },
  {
   "cell_type": "code",
   "execution_count": 3,
   "metadata": {
    "scrolled": false
   },
   "outputs": [
    {
     "data": {
      "text/html": [
       "<div>\n",
       "<style scoped>\n",
       "    .dataframe tbody tr th:only-of-type {\n",
       "        vertical-align: middle;\n",
       "    }\n",
       "\n",
       "    .dataframe tbody tr th {\n",
       "        vertical-align: top;\n",
       "    }\n",
       "\n",
       "    .dataframe thead th {\n",
       "        text-align: right;\n",
       "    }\n",
       "</style>\n",
       "<table border=\"1\" class=\"dataframe\">\n",
       "  <thead>\n",
       "    <tr style=\"text-align: right;\">\n",
       "      <th></th>\n",
       "      <th>depth=4.0</th>\n",
       "      <th>depth=6.0</th>\n",
       "      <th>depth=8.0</th>\n",
       "      <th>depth=10.0</th>\n",
       "      <th>depth=12.0</th>\n",
       "      <th>depth=14.0</th>\n",
       "    </tr>\n",
       "  </thead>\n",
       "  <tbody>\n",
       "    <tr>\n",
       "      <th>rpm=5.0</th>\n",
       "      <td>47.94</td>\n",
       "      <td>71.50</td>\n",
       "      <td>94.71</td>\n",
       "      <td>117.54</td>\n",
       "      <td>139.98</td>\n",
       "      <td>162.03</td>\n",
       "    </tr>\n",
       "    <tr>\n",
       "      <th>rpm=10.0</th>\n",
       "      <td>95.88</td>\n",
       "      <td>143.00</td>\n",
       "      <td>189.41</td>\n",
       "      <td>235.07</td>\n",
       "      <td>279.96</td>\n",
       "      <td>324.05</td>\n",
       "    </tr>\n",
       "    <tr>\n",
       "      <th>rpm=15.0</th>\n",
       "      <td>143.83</td>\n",
       "      <td>214.51</td>\n",
       "      <td>284.12</td>\n",
       "      <td>352.61</td>\n",
       "      <td>419.93</td>\n",
       "      <td>486.08</td>\n",
       "    </tr>\n",
       "    <tr>\n",
       "      <th>rpm=20.0</th>\n",
       "      <td>191.77</td>\n",
       "      <td>286.01</td>\n",
       "      <td>378.83</td>\n",
       "      <td>470.14</td>\n",
       "      <td>559.91</td>\n",
       "      <td>648.10</td>\n",
       "    </tr>\n",
       "    <tr>\n",
       "      <th>rpm=25.0</th>\n",
       "      <td>239.71</td>\n",
       "      <td>357.51</td>\n",
       "      <td>473.53</td>\n",
       "      <td>587.68</td>\n",
       "      <td>699.89</td>\n",
       "      <td>810.13</td>\n",
       "    </tr>\n",
       "    <tr>\n",
       "      <th>rpm=30.0</th>\n",
       "      <td>287.65</td>\n",
       "      <td>429.01</td>\n",
       "      <td>568.24</td>\n",
       "      <td>705.21</td>\n",
       "      <td>839.87</td>\n",
       "      <td>972.15</td>\n",
       "    </tr>\n",
       "    <tr>\n",
       "      <th>rpm=35.0</th>\n",
       "      <td>335.60</td>\n",
       "      <td>500.51</td>\n",
       "      <td>662.94</td>\n",
       "      <td>822.75</td>\n",
       "      <td>979.85</td>\n",
       "      <td>1134.18</td>\n",
       "    </tr>\n",
       "    <tr>\n",
       "      <th>rpm=40.0</th>\n",
       "      <td>383.54</td>\n",
       "      <td>572.01</td>\n",
       "      <td>757.65</td>\n",
       "      <td>940.28</td>\n",
       "      <td>1119.83</td>\n",
       "      <td>1296.21</td>\n",
       "    </tr>\n",
       "    <tr>\n",
       "      <th>rpm=45.0</th>\n",
       "      <td>431.48</td>\n",
       "      <td>643.52</td>\n",
       "      <td>852.36</td>\n",
       "      <td>1057.82</td>\n",
       "      <td>1259.80</td>\n",
       "      <td>1458.23</td>\n",
       "    </tr>\n",
       "    <tr>\n",
       "      <th>rpm=50.0</th>\n",
       "      <td>479.42</td>\n",
       "      <td>715.02</td>\n",
       "      <td>947.06</td>\n",
       "      <td>1175.36</td>\n",
       "      <td>1399.78</td>\n",
       "      <td>1620.26</td>\n",
       "    </tr>\n",
       "  </tbody>\n",
       "</table>\n",
       "</div>"
      ],
      "text/plain": [
       "          depth=4.0  depth=6.0  depth=8.0  depth=10.0  depth=12.0  depth=14.0\n",
       "rpm=5.0       47.94      71.50      94.71      117.54      139.98      162.03\n",
       "rpm=10.0      95.88     143.00     189.41      235.07      279.96      324.05\n",
       "rpm=15.0     143.83     214.51     284.12      352.61      419.93      486.08\n",
       "rpm=20.0     191.77     286.01     378.83      470.14      559.91      648.10\n",
       "rpm=25.0     239.71     357.51     473.53      587.68      699.89      810.13\n",
       "rpm=30.0     287.65     429.01     568.24      705.21      839.87      972.15\n",
       "rpm=35.0     335.60     500.51     662.94      822.75      979.85     1134.18\n",
       "rpm=40.0     383.54     572.01     757.65      940.28     1119.83     1296.21\n",
       "rpm=45.0     431.48     643.52     852.36     1057.82     1259.80     1458.23\n",
       "rpm=50.0     479.42     715.02     947.06     1175.36     1399.78     1620.26"
      ]
     },
     "execution_count": 3,
     "metadata": {},
     "output_type": "execute_result"
    }
   ],
   "source": [
    "throughput_table(200, 800, max_depth=14) # `max_depth` was used to fit the width of the table"
   ]
  },
  {
   "cell_type": "markdown",
   "metadata": {},
   "source": [
    "## Generate a plot of throughput in extrusion process\n",
    "\n",
    "`throughput_plot(size, density, pitch=None, w_flight=None, n_flight=1, min_depth=None, max_depth=None, delta_depth=None, min_rpm=0, max_rpm=50, delta_rpm=1)` generates a plot containing the volumetric throughput with respect to channel depth and screw RPM"
   ]
  },
  {
   "cell_type": "code",
   "execution_count": 4,
   "metadata": {},
   "outputs": [
    {
     "data": {
      "text/html": [
       "\n",
       "<div id=\"altair-viz-54e6539e94aa4e93a7e73d93a47485d4\"></div>\n",
       "<script type=\"text/javascript\">\n",
       "  var VEGA_DEBUG = (typeof VEGA_DEBUG == \"undefined\") ? {} : VEGA_DEBUG;\n",
       "  (function(spec, embedOpt){\n",
       "    let outputDiv = document.currentScript.previousElementSibling;\n",
       "    if (outputDiv.id !== \"altair-viz-54e6539e94aa4e93a7e73d93a47485d4\") {\n",
       "      outputDiv = document.getElementById(\"altair-viz-54e6539e94aa4e93a7e73d93a47485d4\");\n",
       "    }\n",
       "    const paths = {\n",
       "      \"vega\": \"https://cdn.jsdelivr.net/npm//vega@5?noext\",\n",
       "      \"vega-lib\": \"https://cdn.jsdelivr.net/npm//vega-lib?noext\",\n",
       "      \"vega-lite\": \"https://cdn.jsdelivr.net/npm//vega-lite@4.17.0?noext\",\n",
       "      \"vega-embed\": \"https://cdn.jsdelivr.net/npm//vega-embed@6?noext\",\n",
       "    };\n",
       "\n",
       "    function maybeLoadScript(lib, version) {\n",
       "      var key = `${lib.replace(\"-\", \"\")}_version`;\n",
       "      return (VEGA_DEBUG[key] == version) ?\n",
       "        Promise.resolve(paths[lib]) :\n",
       "        new Promise(function(resolve, reject) {\n",
       "          var s = document.createElement('script');\n",
       "          document.getElementsByTagName(\"head\")[0].appendChild(s);\n",
       "          s.async = true;\n",
       "          s.onload = () => {\n",
       "            VEGA_DEBUG[key] = version;\n",
       "            return resolve(paths[lib]);\n",
       "          };\n",
       "          s.onerror = () => reject(`Error loading script: ${paths[lib]}`);\n",
       "          s.src = paths[lib];\n",
       "        });\n",
       "    }\n",
       "\n",
       "    function showError(err) {\n",
       "      outputDiv.innerHTML = `<div class=\"error\" style=\"color:red;\">${err}</div>`;\n",
       "      throw err;\n",
       "    }\n",
       "\n",
       "    function displayChart(vegaEmbed) {\n",
       "      vegaEmbed(outputDiv, spec, embedOpt)\n",
       "        .catch(err => showError(`Javascript Error: ${err.message}<br>This usually means there's a typo in your chart specification. See the javascript console for the full traceback.`));\n",
       "    }\n",
       "\n",
       "    if(typeof define === \"function\" && define.amd) {\n",
       "      requirejs.config({paths});\n",
       "      require([\"vega-embed\"], displayChart, err => showError(`Error loading script: ${err.message}`));\n",
       "    } else {\n",
       "      maybeLoadScript(\"vega\", \"5\")\n",
       "        .then(() => maybeLoadScript(\"vega-lite\", \"4.17.0\"))\n",
       "        .then(() => maybeLoadScript(\"vega-embed\", \"6\"))\n",
       "        .catch(showError)\n",
       "        .then(() => displayChart(vegaEmbed));\n",
       "    }\n",
       "  })({\"config\": {\"view\": {\"continuousWidth\": 400, \"continuousHeight\": 300}, \"axis\": {\"labelFontSize\": 14, \"titleFontSize\": 16}, \"legend\": {\"labelFontSize\": 16, \"titleFontSize\": 14}, \"title\": {\"fontSize\": 18}}, \"data\": {\"name\": \"data-396c81a780a5ab7d8ff80d66b012cd38\"}, \"mark\": \"circle\", \"encoding\": {\"color\": {\"field\": \"depth\", \"sort\": {\"field\": \"throughput\", \"op\": \"mean\", \"order\": \"descending\"}, \"title\": \"Channel depth [mm]\", \"type\": \"nominal\"}, \"tooltip\": [{\"field\": \"RPM\", \"type\": \"quantitative\"}, {\"field\": \"depth\", \"type\": \"nominal\"}, {\"field\": \"throughput\", \"type\": \"quantitative\"}], \"x\": {\"field\": \"RPM\", \"scale\": {\"domain\": [0, 50]}, \"title\": \"Screw RPM\", \"type\": \"quantitative\"}, \"y\": {\"field\": \"throughput\", \"title\": \"Throughput [kg/hr]\", \"type\": \"quantitative\"}}, \"title\": \"Throughput vs Screw RPM & Channel Depth\", \"$schema\": \"https://vega.github.io/schema/vega-lite/v4.17.0.json\", \"datasets\": {\"data-396c81a780a5ab7d8ff80d66b012cd38\": [{\"RPM\": 0.0, \"depth\": 4.0, \"throughput\": 0.0}, {\"RPM\": 1.0, \"depth\": 4.0, \"throughput\": 9.59}, {\"RPM\": 2.0, \"depth\": 4.0, \"throughput\": 19.18}, {\"RPM\": 3.0, \"depth\": 4.0, \"throughput\": 28.77}, {\"RPM\": 4.0, \"depth\": 4.0, \"throughput\": 38.35}, {\"RPM\": 5.0, \"depth\": 4.0, \"throughput\": 47.94}, {\"RPM\": 6.0, \"depth\": 4.0, \"throughput\": 57.53}, {\"RPM\": 7.0, \"depth\": 4.0, \"throughput\": 67.12}, {\"RPM\": 8.0, \"depth\": 4.0, \"throughput\": 76.71}, {\"RPM\": 9.0, \"depth\": 4.0, \"throughput\": 86.3}, {\"RPM\": 10.0, \"depth\": 4.0, \"throughput\": 95.88}, {\"RPM\": 11.0, \"depth\": 4.0, \"throughput\": 105.47}, {\"RPM\": 12.0, \"depth\": 4.0, \"throughput\": 115.06}, {\"RPM\": 13.0, \"depth\": 4.0, \"throughput\": 124.65}, {\"RPM\": 14.0, \"depth\": 4.0, \"throughput\": 134.24}, {\"RPM\": 15.0, \"depth\": 4.0, \"throughput\": 143.83}, {\"RPM\": 16.0, \"depth\": 4.0, \"throughput\": 153.42}, {\"RPM\": 17.0, \"depth\": 4.0, \"throughput\": 163.0}, {\"RPM\": 18.0, \"depth\": 4.0, \"throughput\": 172.59}, {\"RPM\": 19.0, \"depth\": 4.0, \"throughput\": 182.18}, {\"RPM\": 20.0, \"depth\": 4.0, \"throughput\": 191.77}, {\"RPM\": 21.0, \"depth\": 4.0, \"throughput\": 201.36}, {\"RPM\": 22.0, \"depth\": 4.0, \"throughput\": 210.95}, {\"RPM\": 23.0, \"depth\": 4.0, \"throughput\": 220.54}, {\"RPM\": 24.0, \"depth\": 4.0, \"throughput\": 230.12}, {\"RPM\": 25.0, \"depth\": 4.0, \"throughput\": 239.71}, {\"RPM\": 26.0, \"depth\": 4.0, \"throughput\": 249.3}, {\"RPM\": 27.0, \"depth\": 4.0, \"throughput\": 258.89}, {\"RPM\": 28.0, \"depth\": 4.0, \"throughput\": 268.48}, {\"RPM\": 29.0, \"depth\": 4.0, \"throughput\": 278.07}, {\"RPM\": 30.0, \"depth\": 4.0, \"throughput\": 287.65}, {\"RPM\": 31.0, \"depth\": 4.0, \"throughput\": 297.24}, {\"RPM\": 32.0, \"depth\": 4.0, \"throughput\": 306.83}, {\"RPM\": 33.0, \"depth\": 4.0, \"throughput\": 316.42}, {\"RPM\": 34.0, \"depth\": 4.0, \"throughput\": 326.01}, {\"RPM\": 35.0, \"depth\": 4.0, \"throughput\": 335.6}, {\"RPM\": 36.0, \"depth\": 4.0, \"throughput\": 345.19}, {\"RPM\": 37.0, \"depth\": 4.0, \"throughput\": 354.77}, {\"RPM\": 38.0, \"depth\": 4.0, \"throughput\": 364.36}, {\"RPM\": 39.0, \"depth\": 4.0, \"throughput\": 373.95}, {\"RPM\": 40.0, \"depth\": 4.0, \"throughput\": 383.54}, {\"RPM\": 41.0, \"depth\": 4.0, \"throughput\": 393.13}, {\"RPM\": 42.0, \"depth\": 4.0, \"throughput\": 402.72}, {\"RPM\": 43.0, \"depth\": 4.0, \"throughput\": 412.31}, {\"RPM\": 44.0, \"depth\": 4.0, \"throughput\": 421.89}, {\"RPM\": 45.0, \"depth\": 4.0, \"throughput\": 431.48}, {\"RPM\": 46.0, \"depth\": 4.0, \"throughput\": 441.07}, {\"RPM\": 47.0, \"depth\": 4.0, \"throughput\": 450.66}, {\"RPM\": 48.0, \"depth\": 4.0, \"throughput\": 460.25}, {\"RPM\": 49.0, \"depth\": 4.0, \"throughput\": 469.84}, {\"RPM\": 50.0, \"depth\": 4.0, \"throughput\": 479.42}, {\"RPM\": 0.0, \"depth\": 6.0, \"throughput\": 0.0}, {\"RPM\": 1.0, \"depth\": 6.0, \"throughput\": 14.3}, {\"RPM\": 2.0, \"depth\": 6.0, \"throughput\": 28.6}, {\"RPM\": 3.0, \"depth\": 6.0, \"throughput\": 42.9}, {\"RPM\": 4.0, \"depth\": 6.0, \"throughput\": 57.2}, {\"RPM\": 5.0, \"depth\": 6.0, \"throughput\": 71.5}, {\"RPM\": 6.0, \"depth\": 6.0, \"throughput\": 85.8}, {\"RPM\": 7.0, \"depth\": 6.0, \"throughput\": 100.1}, {\"RPM\": 8.0, \"depth\": 6.0, \"throughput\": 114.4}, {\"RPM\": 9.0, \"depth\": 6.0, \"throughput\": 128.7}, {\"RPM\": 10.0, \"depth\": 6.0, \"throughput\": 143.0}, {\"RPM\": 11.0, \"depth\": 6.0, \"throughput\": 157.3}, {\"RPM\": 12.0, \"depth\": 6.0, \"throughput\": 171.6}, {\"RPM\": 13.0, \"depth\": 6.0, \"throughput\": 185.9}, {\"RPM\": 14.0, \"depth\": 6.0, \"throughput\": 200.21}, {\"RPM\": 15.0, \"depth\": 6.0, \"throughput\": 214.51}, {\"RPM\": 16.0, \"depth\": 6.0, \"throughput\": 228.81}, {\"RPM\": 17.0, \"depth\": 6.0, \"throughput\": 243.11}, {\"RPM\": 18.0, \"depth\": 6.0, \"throughput\": 257.41}, {\"RPM\": 19.0, \"depth\": 6.0, \"throughput\": 271.71}, {\"RPM\": 20.0, \"depth\": 6.0, \"throughput\": 286.01}, {\"RPM\": 21.0, \"depth\": 6.0, \"throughput\": 300.31}, {\"RPM\": 22.0, \"depth\": 6.0, \"throughput\": 314.61}, {\"RPM\": 23.0, \"depth\": 6.0, \"throughput\": 328.91}, {\"RPM\": 24.0, \"depth\": 6.0, \"throughput\": 343.21}, {\"RPM\": 25.0, \"depth\": 6.0, \"throughput\": 357.51}, {\"RPM\": 26.0, \"depth\": 6.0, \"throughput\": 371.81}, {\"RPM\": 27.0, \"depth\": 6.0, \"throughput\": 386.11}, {\"RPM\": 28.0, \"depth\": 6.0, \"throughput\": 400.41}, {\"RPM\": 29.0, \"depth\": 6.0, \"throughput\": 414.71}, {\"RPM\": 30.0, \"depth\": 6.0, \"throughput\": 429.01}, {\"RPM\": 31.0, \"depth\": 6.0, \"throughput\": 443.31}, {\"RPM\": 32.0, \"depth\": 6.0, \"throughput\": 457.61}, {\"RPM\": 33.0, \"depth\": 6.0, \"throughput\": 471.91}, {\"RPM\": 34.0, \"depth\": 6.0, \"throughput\": 486.21}, {\"RPM\": 35.0, \"depth\": 6.0, \"throughput\": 500.51}, {\"RPM\": 36.0, \"depth\": 6.0, \"throughput\": 514.81}, {\"RPM\": 37.0, \"depth\": 6.0, \"throughput\": 529.11}, {\"RPM\": 38.0, \"depth\": 6.0, \"throughput\": 543.41}, {\"RPM\": 39.0, \"depth\": 6.0, \"throughput\": 557.71}, {\"RPM\": 40.0, \"depth\": 6.0, \"throughput\": 572.01}, {\"RPM\": 41.0, \"depth\": 6.0, \"throughput\": 586.31}, {\"RPM\": 42.0, \"depth\": 6.0, \"throughput\": 600.62}, {\"RPM\": 43.0, \"depth\": 6.0, \"throughput\": 614.92}, {\"RPM\": 44.0, \"depth\": 6.0, \"throughput\": 629.22}, {\"RPM\": 45.0, \"depth\": 6.0, \"throughput\": 643.52}, {\"RPM\": 46.0, \"depth\": 6.0, \"throughput\": 657.82}, {\"RPM\": 47.0, \"depth\": 6.0, \"throughput\": 672.12}, {\"RPM\": 48.0, \"depth\": 6.0, \"throughput\": 686.42}, {\"RPM\": 49.0, \"depth\": 6.0, \"throughput\": 700.72}, {\"RPM\": 50.0, \"depth\": 6.0, \"throughput\": 715.02}, {\"RPM\": 0.0, \"depth\": 8.0, \"throughput\": 0.0}, {\"RPM\": 1.0, \"depth\": 8.0, \"throughput\": 18.94}, {\"RPM\": 2.0, \"depth\": 8.0, \"throughput\": 37.88}, {\"RPM\": 3.0, \"depth\": 8.0, \"throughput\": 56.82}, {\"RPM\": 4.0, \"depth\": 8.0, \"throughput\": 75.77}, {\"RPM\": 5.0, \"depth\": 8.0, \"throughput\": 94.71}, {\"RPM\": 6.0, \"depth\": 8.0, \"throughput\": 113.65}, {\"RPM\": 7.0, \"depth\": 8.0, \"throughput\": 132.59}, {\"RPM\": 8.0, \"depth\": 8.0, \"throughput\": 151.53}, {\"RPM\": 9.0, \"depth\": 8.0, \"throughput\": 170.47}, {\"RPM\": 10.0, \"depth\": 8.0, \"throughput\": 189.41}, {\"RPM\": 11.0, \"depth\": 8.0, \"throughput\": 208.35}, {\"RPM\": 12.0, \"depth\": 8.0, \"throughput\": 227.3}, {\"RPM\": 13.0, \"depth\": 8.0, \"throughput\": 246.24}, {\"RPM\": 14.0, \"depth\": 8.0, \"throughput\": 265.18}, {\"RPM\": 15.0, \"depth\": 8.0, \"throughput\": 284.12}, {\"RPM\": 16.0, \"depth\": 8.0, \"throughput\": 303.06}, {\"RPM\": 17.0, \"depth\": 8.0, \"throughput\": 322.0}, {\"RPM\": 18.0, \"depth\": 8.0, \"throughput\": 340.94}, {\"RPM\": 19.0, \"depth\": 8.0, \"throughput\": 359.88}, {\"RPM\": 20.0, \"depth\": 8.0, \"throughput\": 378.83}, {\"RPM\": 21.0, \"depth\": 8.0, \"throughput\": 397.77}, {\"RPM\": 22.0, \"depth\": 8.0, \"throughput\": 416.71}, {\"RPM\": 23.0, \"depth\": 8.0, \"throughput\": 435.65}, {\"RPM\": 24.0, \"depth\": 8.0, \"throughput\": 454.59}, {\"RPM\": 25.0, \"depth\": 8.0, \"throughput\": 473.53}, {\"RPM\": 26.0, \"depth\": 8.0, \"throughput\": 492.47}, {\"RPM\": 27.0, \"depth\": 8.0, \"throughput\": 511.41}, {\"RPM\": 28.0, \"depth\": 8.0, \"throughput\": 530.36}, {\"RPM\": 29.0, \"depth\": 8.0, \"throughput\": 549.3}, {\"RPM\": 30.0, \"depth\": 8.0, \"throughput\": 568.24}, {\"RPM\": 31.0, \"depth\": 8.0, \"throughput\": 587.18}, {\"RPM\": 32.0, \"depth\": 8.0, \"throughput\": 606.12}, {\"RPM\": 33.0, \"depth\": 8.0, \"throughput\": 625.06}, {\"RPM\": 34.0, \"depth\": 8.0, \"throughput\": 644.0}, {\"RPM\": 35.0, \"depth\": 8.0, \"throughput\": 662.94}, {\"RPM\": 36.0, \"depth\": 8.0, \"throughput\": 681.89}, {\"RPM\": 37.0, \"depth\": 8.0, \"throughput\": 700.83}, {\"RPM\": 38.0, \"depth\": 8.0, \"throughput\": 719.77}, {\"RPM\": 39.0, \"depth\": 8.0, \"throughput\": 738.71}, {\"RPM\": 40.0, \"depth\": 8.0, \"throughput\": 757.65}, {\"RPM\": 41.0, \"depth\": 8.0, \"throughput\": 776.59}, {\"RPM\": 42.0, \"depth\": 8.0, \"throughput\": 795.53}, {\"RPM\": 43.0, \"depth\": 8.0, \"throughput\": 814.47}, {\"RPM\": 44.0, \"depth\": 8.0, \"throughput\": 833.42}, {\"RPM\": 45.0, \"depth\": 8.0, \"throughput\": 852.36}, {\"RPM\": 46.0, \"depth\": 8.0, \"throughput\": 871.3}, {\"RPM\": 47.0, \"depth\": 8.0, \"throughput\": 890.24}, {\"RPM\": 48.0, \"depth\": 8.0, \"throughput\": 909.18}, {\"RPM\": 49.0, \"depth\": 8.0, \"throughput\": 928.12}, {\"RPM\": 50.0, \"depth\": 8.0, \"throughput\": 947.06}, {\"RPM\": 0.0, \"depth\": 10.0, \"throughput\": 0.0}, {\"RPM\": 1.0, \"depth\": 10.0, \"throughput\": 23.51}, {\"RPM\": 2.0, \"depth\": 10.0, \"throughput\": 47.01}, {\"RPM\": 3.0, \"depth\": 10.0, \"throughput\": 70.52}, {\"RPM\": 4.0, \"depth\": 10.0, \"throughput\": 94.03}, {\"RPM\": 5.0, \"depth\": 10.0, \"throughput\": 117.54}, {\"RPM\": 6.0, \"depth\": 10.0, \"throughput\": 141.04}, {\"RPM\": 7.0, \"depth\": 10.0, \"throughput\": 164.55}, {\"RPM\": 8.0, \"depth\": 10.0, \"throughput\": 188.06}, {\"RPM\": 9.0, \"depth\": 10.0, \"throughput\": 211.56}, {\"RPM\": 10.0, \"depth\": 10.0, \"throughput\": 235.07}, {\"RPM\": 11.0, \"depth\": 10.0, \"throughput\": 258.58}, {\"RPM\": 12.0, \"depth\": 10.0, \"throughput\": 282.09}, {\"RPM\": 13.0, \"depth\": 10.0, \"throughput\": 305.59}, {\"RPM\": 14.0, \"depth\": 10.0, \"throughput\": 329.1}, {\"RPM\": 15.0, \"depth\": 10.0, \"throughput\": 352.61}, {\"RPM\": 16.0, \"depth\": 10.0, \"throughput\": 376.11}, {\"RPM\": 17.0, \"depth\": 10.0, \"throughput\": 399.62}, {\"RPM\": 18.0, \"depth\": 10.0, \"throughput\": 423.13}, {\"RPM\": 19.0, \"depth\": 10.0, \"throughput\": 446.64}, {\"RPM\": 20.0, \"depth\": 10.0, \"throughput\": 470.14}, {\"RPM\": 21.0, \"depth\": 10.0, \"throughput\": 493.65}, {\"RPM\": 22.0, \"depth\": 10.0, \"throughput\": 517.16}, {\"RPM\": 23.0, \"depth\": 10.0, \"throughput\": 540.66}, {\"RPM\": 24.0, \"depth\": 10.0, \"throughput\": 564.17}, {\"RPM\": 25.0, \"depth\": 10.0, \"throughput\": 587.68}, {\"RPM\": 26.0, \"depth\": 10.0, \"throughput\": 611.18}, {\"RPM\": 27.0, \"depth\": 10.0, \"throughput\": 634.69}, {\"RPM\": 28.0, \"depth\": 10.0, \"throughput\": 658.2}, {\"RPM\": 29.0, \"depth\": 10.0, \"throughput\": 681.71}, {\"RPM\": 30.0, \"depth\": 10.0, \"throughput\": 705.21}, {\"RPM\": 31.0, \"depth\": 10.0, \"throughput\": 728.72}, {\"RPM\": 32.0, \"depth\": 10.0, \"throughput\": 752.23}, {\"RPM\": 33.0, \"depth\": 10.0, \"throughput\": 775.73}, {\"RPM\": 34.0, \"depth\": 10.0, \"throughput\": 799.24}, {\"RPM\": 35.0, \"depth\": 10.0, \"throughput\": 822.75}, {\"RPM\": 36.0, \"depth\": 10.0, \"throughput\": 846.26}, {\"RPM\": 37.0, \"depth\": 10.0, \"throughput\": 869.76}, {\"RPM\": 38.0, \"depth\": 10.0, \"throughput\": 893.27}, {\"RPM\": 39.0, \"depth\": 10.0, \"throughput\": 916.78}, {\"RPM\": 40.0, \"depth\": 10.0, \"throughput\": 940.28}, {\"RPM\": 41.0, \"depth\": 10.0, \"throughput\": 963.79}, {\"RPM\": 42.0, \"depth\": 10.0, \"throughput\": 987.3}, {\"RPM\": 43.0, \"depth\": 10.0, \"throughput\": 1010.81}, {\"RPM\": 44.0, \"depth\": 10.0, \"throughput\": 1034.31}, {\"RPM\": 45.0, \"depth\": 10.0, \"throughput\": 1057.82}, {\"RPM\": 46.0, \"depth\": 10.0, \"throughput\": 1081.33}, {\"RPM\": 47.0, \"depth\": 10.0, \"throughput\": 1104.83}, {\"RPM\": 48.0, \"depth\": 10.0, \"throughput\": 1128.34}, {\"RPM\": 49.0, \"depth\": 10.0, \"throughput\": 1151.85}, {\"RPM\": 50.0, \"depth\": 10.0, \"throughput\": 1175.36}, {\"RPM\": 0.0, \"depth\": 12.0, \"throughput\": 0.0}, {\"RPM\": 1.0, \"depth\": 12.0, \"throughput\": 28.0}, {\"RPM\": 2.0, \"depth\": 12.0, \"throughput\": 55.99}, {\"RPM\": 3.0, \"depth\": 12.0, \"throughput\": 83.99}, {\"RPM\": 4.0, \"depth\": 12.0, \"throughput\": 111.98}, {\"RPM\": 5.0, \"depth\": 12.0, \"throughput\": 139.98}, {\"RPM\": 6.0, \"depth\": 12.0, \"throughput\": 167.97}, {\"RPM\": 7.0, \"depth\": 12.0, \"throughput\": 195.97}, {\"RPM\": 8.0, \"depth\": 12.0, \"throughput\": 223.97}, {\"RPM\": 9.0, \"depth\": 12.0, \"throughput\": 251.96}, {\"RPM\": 10.0, \"depth\": 12.0, \"throughput\": 279.96}, {\"RPM\": 11.0, \"depth\": 12.0, \"throughput\": 307.95}, {\"RPM\": 12.0, \"depth\": 12.0, \"throughput\": 335.95}, {\"RPM\": 13.0, \"depth\": 12.0, \"throughput\": 363.94}, {\"RPM\": 14.0, \"depth\": 12.0, \"throughput\": 391.94}, {\"RPM\": 15.0, \"depth\": 12.0, \"throughput\": 419.93}, {\"RPM\": 16.0, \"depth\": 12.0, \"throughput\": 447.93}, {\"RPM\": 17.0, \"depth\": 12.0, \"throughput\": 475.93}, {\"RPM\": 18.0, \"depth\": 12.0, \"throughput\": 503.92}, {\"RPM\": 19.0, \"depth\": 12.0, \"throughput\": 531.92}, {\"RPM\": 20.0, \"depth\": 12.0, \"throughput\": 559.91}, {\"RPM\": 21.0, \"depth\": 12.0, \"throughput\": 587.91}, {\"RPM\": 22.0, \"depth\": 12.0, \"throughput\": 615.9}, {\"RPM\": 23.0, \"depth\": 12.0, \"throughput\": 643.9}, {\"RPM\": 24.0, \"depth\": 12.0, \"throughput\": 671.9}, {\"RPM\": 25.0, \"depth\": 12.0, \"throughput\": 699.89}, {\"RPM\": 26.0, \"depth\": 12.0, \"throughput\": 727.89}, {\"RPM\": 27.0, \"depth\": 12.0, \"throughput\": 755.88}, {\"RPM\": 28.0, \"depth\": 12.0, \"throughput\": 783.88}, {\"RPM\": 29.0, \"depth\": 12.0, \"throughput\": 811.87}, {\"RPM\": 30.0, \"depth\": 12.0, \"throughput\": 839.87}, {\"RPM\": 31.0, \"depth\": 12.0, \"throughput\": 867.87}, {\"RPM\": 32.0, \"depth\": 12.0, \"throughput\": 895.86}, {\"RPM\": 33.0, \"depth\": 12.0, \"throughput\": 923.86}, {\"RPM\": 34.0, \"depth\": 12.0, \"throughput\": 951.85}, {\"RPM\": 35.0, \"depth\": 12.0, \"throughput\": 979.85}, {\"RPM\": 36.0, \"depth\": 12.0, \"throughput\": 1007.84}, {\"RPM\": 37.0, \"depth\": 12.0, \"throughput\": 1035.84}, {\"RPM\": 38.0, \"depth\": 12.0, \"throughput\": 1063.83}, {\"RPM\": 39.0, \"depth\": 12.0, \"throughput\": 1091.83}, {\"RPM\": 40.0, \"depth\": 12.0, \"throughput\": 1119.83}, {\"RPM\": 41.0, \"depth\": 12.0, \"throughput\": 1147.82}, {\"RPM\": 42.0, \"depth\": 12.0, \"throughput\": 1175.82}, {\"RPM\": 43.0, \"depth\": 12.0, \"throughput\": 1203.81}, {\"RPM\": 44.0, \"depth\": 12.0, \"throughput\": 1231.81}, {\"RPM\": 45.0, \"depth\": 12.0, \"throughput\": 1259.8}, {\"RPM\": 46.0, \"depth\": 12.0, \"throughput\": 1287.8}, {\"RPM\": 47.0, \"depth\": 12.0, \"throughput\": 1315.8}, {\"RPM\": 48.0, \"depth\": 12.0, \"throughput\": 1343.79}, {\"RPM\": 49.0, \"depth\": 12.0, \"throughput\": 1371.79}, {\"RPM\": 50.0, \"depth\": 12.0, \"throughput\": 1399.78}, {\"RPM\": 0.0, \"depth\": 14.0, \"throughput\": 0.0}, {\"RPM\": 1.0, \"depth\": 14.0, \"throughput\": 32.41}, {\"RPM\": 2.0, \"depth\": 14.0, \"throughput\": 64.81}, {\"RPM\": 3.0, \"depth\": 14.0, \"throughput\": 97.22}, {\"RPM\": 4.0, \"depth\": 14.0, \"throughput\": 129.62}, {\"RPM\": 5.0, \"depth\": 14.0, \"throughput\": 162.03}, {\"RPM\": 6.0, \"depth\": 14.0, \"throughput\": 194.43}, {\"RPM\": 7.0, \"depth\": 14.0, \"throughput\": 226.84}, {\"RPM\": 8.0, \"depth\": 14.0, \"throughput\": 259.24}, {\"RPM\": 9.0, \"depth\": 14.0, \"throughput\": 291.65}, {\"RPM\": 10.0, \"depth\": 14.0, \"throughput\": 324.05}, {\"RPM\": 11.0, \"depth\": 14.0, \"throughput\": 356.46}, {\"RPM\": 12.0, \"depth\": 14.0, \"throughput\": 388.86}, {\"RPM\": 13.0, \"depth\": 14.0, \"throughput\": 421.27}, {\"RPM\": 14.0, \"depth\": 14.0, \"throughput\": 453.67}, {\"RPM\": 15.0, \"depth\": 14.0, \"throughput\": 486.08}, {\"RPM\": 16.0, \"depth\": 14.0, \"throughput\": 518.48}, {\"RPM\": 17.0, \"depth\": 14.0, \"throughput\": 550.89}, {\"RPM\": 18.0, \"depth\": 14.0, \"throughput\": 583.29}, {\"RPM\": 19.0, \"depth\": 14.0, \"throughput\": 615.7}, {\"RPM\": 20.0, \"depth\": 14.0, \"throughput\": 648.1}, {\"RPM\": 21.0, \"depth\": 14.0, \"throughput\": 680.51}, {\"RPM\": 22.0, \"depth\": 14.0, \"throughput\": 712.91}, {\"RPM\": 23.0, \"depth\": 14.0, \"throughput\": 745.32}, {\"RPM\": 24.0, \"depth\": 14.0, \"throughput\": 777.72}, {\"RPM\": 25.0, \"depth\": 14.0, \"throughput\": 810.13}, {\"RPM\": 26.0, \"depth\": 14.0, \"throughput\": 842.53}, {\"RPM\": 27.0, \"depth\": 14.0, \"throughput\": 874.94}, {\"RPM\": 28.0, \"depth\": 14.0, \"throughput\": 907.34}, {\"RPM\": 29.0, \"depth\": 14.0, \"throughput\": 939.75}, {\"RPM\": 30.0, \"depth\": 14.0, \"throughput\": 972.15}, {\"RPM\": 31.0, \"depth\": 14.0, \"throughput\": 1004.56}, {\"RPM\": 32.0, \"depth\": 14.0, \"throughput\": 1036.97}, {\"RPM\": 33.0, \"depth\": 14.0, \"throughput\": 1069.37}, {\"RPM\": 34.0, \"depth\": 14.0, \"throughput\": 1101.78}, {\"RPM\": 35.0, \"depth\": 14.0, \"throughput\": 1134.18}, {\"RPM\": 36.0, \"depth\": 14.0, \"throughput\": 1166.59}, {\"RPM\": 37.0, \"depth\": 14.0, \"throughput\": 1198.99}, {\"RPM\": 38.0, \"depth\": 14.0, \"throughput\": 1231.4}, {\"RPM\": 39.0, \"depth\": 14.0, \"throughput\": 1263.8}, {\"RPM\": 40.0, \"depth\": 14.0, \"throughput\": 1296.21}, {\"RPM\": 41.0, \"depth\": 14.0, \"throughput\": 1328.61}, {\"RPM\": 42.0, \"depth\": 14.0, \"throughput\": 1361.02}, {\"RPM\": 43.0, \"depth\": 14.0, \"throughput\": 1393.42}, {\"RPM\": 44.0, \"depth\": 14.0, \"throughput\": 1425.83}, {\"RPM\": 45.0, \"depth\": 14.0, \"throughput\": 1458.23}, {\"RPM\": 46.0, \"depth\": 14.0, \"throughput\": 1490.64}, {\"RPM\": 47.0, \"depth\": 14.0, \"throughput\": 1523.04}, {\"RPM\": 48.0, \"depth\": 14.0, \"throughput\": 1555.45}, {\"RPM\": 49.0, \"depth\": 14.0, \"throughput\": 1587.85}, {\"RPM\": 50.0, \"depth\": 14.0, \"throughput\": 1620.26}, {\"RPM\": 0.0, \"depth\": 16.0, \"throughput\": 0.0}, {\"RPM\": 1.0, \"depth\": 16.0, \"throughput\": 36.73}, {\"RPM\": 2.0, \"depth\": 16.0, \"throughput\": 73.47}, {\"RPM\": 3.0, \"depth\": 16.0, \"throughput\": 110.2}, {\"RPM\": 4.0, \"depth\": 16.0, \"throughput\": 146.94}, {\"RPM\": 5.0, \"depth\": 16.0, \"throughput\": 183.67}, {\"RPM\": 6.0, \"depth\": 16.0, \"throughput\": 220.4}, {\"RPM\": 7.0, \"depth\": 16.0, \"throughput\": 257.14}, {\"RPM\": 8.0, \"depth\": 16.0, \"throughput\": 293.87}, {\"RPM\": 9.0, \"depth\": 16.0, \"throughput\": 330.61}, {\"RPM\": 10.0, \"depth\": 16.0, \"throughput\": 367.34}, {\"RPM\": 11.0, \"depth\": 16.0, \"throughput\": 404.07}, {\"RPM\": 12.0, \"depth\": 16.0, \"throughput\": 440.81}, {\"RPM\": 13.0, \"depth\": 16.0, \"throughput\": 477.54}, {\"RPM\": 14.0, \"depth\": 16.0, \"throughput\": 514.28}, {\"RPM\": 15.0, \"depth\": 16.0, \"throughput\": 551.01}, {\"RPM\": 16.0, \"depth\": 16.0, \"throughput\": 587.74}, {\"RPM\": 17.0, \"depth\": 16.0, \"throughput\": 624.48}, {\"RPM\": 18.0, \"depth\": 16.0, \"throughput\": 661.21}, {\"RPM\": 19.0, \"depth\": 16.0, \"throughput\": 697.95}, {\"RPM\": 20.0, \"depth\": 16.0, \"throughput\": 734.68}, {\"RPM\": 21.0, \"depth\": 16.0, \"throughput\": 771.41}, {\"RPM\": 22.0, \"depth\": 16.0, \"throughput\": 808.15}, {\"RPM\": 23.0, \"depth\": 16.0, \"throughput\": 844.88}, {\"RPM\": 24.0, \"depth\": 16.0, \"throughput\": 881.62}, {\"RPM\": 25.0, \"depth\": 16.0, \"throughput\": 918.35}, {\"RPM\": 26.0, \"depth\": 16.0, \"throughput\": 955.08}, {\"RPM\": 27.0, \"depth\": 16.0, \"throughput\": 991.82}, {\"RPM\": 28.0, \"depth\": 16.0, \"throughput\": 1028.55}, {\"RPM\": 29.0, \"depth\": 16.0, \"throughput\": 1065.29}, {\"RPM\": 30.0, \"depth\": 16.0, \"throughput\": 1102.02}, {\"RPM\": 31.0, \"depth\": 16.0, \"throughput\": 1138.75}, {\"RPM\": 32.0, \"depth\": 16.0, \"throughput\": 1175.49}, {\"RPM\": 33.0, \"depth\": 16.0, \"throughput\": 1212.22}, {\"RPM\": 34.0, \"depth\": 16.0, \"throughput\": 1248.96}, {\"RPM\": 35.0, \"depth\": 16.0, \"throughput\": 1285.69}, {\"RPM\": 36.0, \"depth\": 16.0, \"throughput\": 1322.42}, {\"RPM\": 37.0, \"depth\": 16.0, \"throughput\": 1359.16}, {\"RPM\": 38.0, \"depth\": 16.0, \"throughput\": 1395.89}, {\"RPM\": 39.0, \"depth\": 16.0, \"throughput\": 1432.63}, {\"RPM\": 40.0, \"depth\": 16.0, \"throughput\": 1469.36}, {\"RPM\": 41.0, \"depth\": 16.0, \"throughput\": 1506.09}, {\"RPM\": 42.0, \"depth\": 16.0, \"throughput\": 1542.83}, {\"RPM\": 43.0, \"depth\": 16.0, \"throughput\": 1579.56}, {\"RPM\": 44.0, \"depth\": 16.0, \"throughput\": 1616.3}, {\"RPM\": 45.0, \"depth\": 16.0, \"throughput\": 1653.03}, {\"RPM\": 46.0, \"depth\": 16.0, \"throughput\": 1689.76}, {\"RPM\": 47.0, \"depth\": 16.0, \"throughput\": 1726.5}, {\"RPM\": 48.0, \"depth\": 16.0, \"throughput\": 1763.23}, {\"RPM\": 49.0, \"depth\": 16.0, \"throughput\": 1799.97}, {\"RPM\": 50.0, \"depth\": 16.0, \"throughput\": 1836.7}, {\"RPM\": 0.0, \"depth\": 18.0, \"throughput\": 0.0}, {\"RPM\": 1.0, \"depth\": 18.0, \"throughput\": 40.98}, {\"RPM\": 2.0, \"depth\": 18.0, \"throughput\": 81.96}, {\"RPM\": 3.0, \"depth\": 18.0, \"throughput\": 122.94}, {\"RPM\": 4.0, \"depth\": 18.0, \"throughput\": 163.92}, {\"RPM\": 5.0, \"depth\": 18.0, \"throughput\": 204.9}, {\"RPM\": 6.0, \"depth\": 18.0, \"throughput\": 245.88}, {\"RPM\": 7.0, \"depth\": 18.0, \"throughput\": 286.86}, {\"RPM\": 8.0, \"depth\": 18.0, \"throughput\": 327.84}, {\"RPM\": 9.0, \"depth\": 18.0, \"throughput\": 368.82}, {\"RPM\": 10.0, \"depth\": 18.0, \"throughput\": 409.8}, {\"RPM\": 11.0, \"depth\": 18.0, \"throughput\": 450.78}, {\"RPM\": 12.0, \"depth\": 18.0, \"throughput\": 491.76}, {\"RPM\": 13.0, \"depth\": 18.0, \"throughput\": 532.74}, {\"RPM\": 14.0, \"depth\": 18.0, \"throughput\": 573.72}, {\"RPM\": 15.0, \"depth\": 18.0, \"throughput\": 614.71}, {\"RPM\": 16.0, \"depth\": 18.0, \"throughput\": 655.69}, {\"RPM\": 17.0, \"depth\": 18.0, \"throughput\": 696.67}, {\"RPM\": 18.0, \"depth\": 18.0, \"throughput\": 737.65}, {\"RPM\": 19.0, \"depth\": 18.0, \"throughput\": 778.63}, {\"RPM\": 20.0, \"depth\": 18.0, \"throughput\": 819.61}, {\"RPM\": 21.0, \"depth\": 18.0, \"throughput\": 860.59}, {\"RPM\": 22.0, \"depth\": 18.0, \"throughput\": 901.57}, {\"RPM\": 23.0, \"depth\": 18.0, \"throughput\": 942.55}, {\"RPM\": 24.0, \"depth\": 18.0, \"throughput\": 983.53}, {\"RPM\": 25.0, \"depth\": 18.0, \"throughput\": 1024.51}, {\"RPM\": 26.0, \"depth\": 18.0, \"throughput\": 1065.49}, {\"RPM\": 27.0, \"depth\": 18.0, \"throughput\": 1106.47}, {\"RPM\": 28.0, \"depth\": 18.0, \"throughput\": 1147.45}, {\"RPM\": 29.0, \"depth\": 18.0, \"throughput\": 1188.43}, {\"RPM\": 30.0, \"depth\": 18.0, \"throughput\": 1229.41}, {\"RPM\": 31.0, \"depth\": 18.0, \"throughput\": 1270.39}, {\"RPM\": 32.0, \"depth\": 18.0, \"throughput\": 1311.37}, {\"RPM\": 33.0, \"depth\": 18.0, \"throughput\": 1352.35}, {\"RPM\": 34.0, \"depth\": 18.0, \"throughput\": 1393.33}, {\"RPM\": 35.0, \"depth\": 18.0, \"throughput\": 1434.31}, {\"RPM\": 36.0, \"depth\": 18.0, \"throughput\": 1475.29}, {\"RPM\": 37.0, \"depth\": 18.0, \"throughput\": 1516.27}, {\"RPM\": 38.0, \"depth\": 18.0, \"throughput\": 1557.25}, {\"RPM\": 39.0, \"depth\": 18.0, \"throughput\": 1598.23}, {\"RPM\": 40.0, \"depth\": 18.0, \"throughput\": 1639.21}, {\"RPM\": 41.0, \"depth\": 18.0, \"throughput\": 1680.19}, {\"RPM\": 42.0, \"depth\": 18.0, \"throughput\": 1721.17}, {\"RPM\": 43.0, \"depth\": 18.0, \"throughput\": 1762.16}, {\"RPM\": 44.0, \"depth\": 18.0, \"throughput\": 1803.14}, {\"RPM\": 45.0, \"depth\": 18.0, \"throughput\": 1844.12}, {\"RPM\": 46.0, \"depth\": 18.0, \"throughput\": 1885.1}, {\"RPM\": 47.0, \"depth\": 18.0, \"throughput\": 1926.08}, {\"RPM\": 48.0, \"depth\": 18.0, \"throughput\": 1967.06}, {\"RPM\": 49.0, \"depth\": 18.0, \"throughput\": 2008.04}, {\"RPM\": 50.0, \"depth\": 18.0, \"throughput\": 2049.02}]}}, {\"mode\": \"vega-lite\"});\n",
       "</script>"
      ],
      "text/plain": [
       "alt.Chart(...)"
      ]
     },
     "execution_count": 4,
     "metadata": {},
     "output_type": "execute_result"
    }
   ],
   "source": [
    "throughput_plot(200, 800)"
   ]
  },
  {
   "cell_type": "code",
   "execution_count": null,
   "metadata": {},
   "outputs": [],
   "source": []
  }
 ],
 "metadata": {
  "kernelspec": {
   "display_name": "Python 3 (ipykernel)",
   "language": "python",
   "name": "python3"
  },
  "language_info": {
   "codemirror_mode": {
    "name": "ipython",
    "version": 3
   },
   "file_extension": ".py",
   "mimetype": "text/x-python",
   "name": "python",
   "nbconvert_exporter": "python",
   "pygments_lexer": "ipython3",
   "version": "3.9.10"
  }
 },
 "nbformat": 4,
 "nbformat_minor": 4
}
