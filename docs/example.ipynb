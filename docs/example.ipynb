{
 "cells": [
  {
   "cell_type": "markdown",
   "metadata": {},
   "source": [
    "# Example usage\n",
    "\n",
    "Here we will demonstrate how to use `extrucal` to calculate throughput in extrusion and generate the table and plot for throughput with various conditions."
   ]
  },
  {
   "cell_type": "markdown",
   "metadata": {},
   "source": [
    "## Imports"
   ]
  },
  {
   "cell_type": "code",
   "execution_count": 1,
   "metadata": {},
   "outputs": [],
   "source": [
    "from extrucal.extrusion import throughput_cal, throughput_table, throughput_plot\n",
    "from extrucal.cable_extrusion import req_throughput_cal, req_rpm_table, req_rpm_plot"
   ]
  },
  {
   "cell_type": "markdown",
   "metadata": {},
   "source": [
    "## 1. Functions in `extrucal.extrusion`"
   ]
  },
  {
   "cell_type": "markdown",
   "metadata": {},
   "source": [
    "### Calculate throughput in extrusion process\n",
    "\n",
    "`throughput(size, depth, density, rpm=1, pitch=None, w_flight=None, n_flight=1)` calculates the extrusion throughput (Drag Flow) given the screw size, RPM, the channel depth of metering channel, and screw pitch"
   ]
  },
  {
   "cell_type": "code",
   "execution_count": 2,
   "metadata": {},
   "outputs": [
    {
     "data": {
      "text/plain": [
       "23.51"
      ]
     },
     "execution_count": 2,
     "metadata": {},
     "output_type": "execute_result"
    }
   ],
   "source": [
    "throughput_cal(200, 10, 800)"
   ]
  },
  {
   "cell_type": "markdown",
   "metadata": {},
   "source": [
    "### Generate a table of throughput in extrusion process\n",
    "\n",
    "`throughput_table(size, density, pitch=None, w_flight=None, n_flight=1, min_depth=None, max_depth=None, delta_depth=None, min_rpm=5, max_rpm=50, delta_rpm=5)` generates a table containing the extrusion throughput with respect to channel depth and screw RPM"
   ]
  },
  {
   "cell_type": "code",
   "execution_count": 3,
   "metadata": {
    "scrolled": false
   },
   "outputs": [
    {
     "data": {
      "text/html": [
       "<div>\n",
       "<style scoped>\n",
       "    .dataframe tbody tr th:only-of-type {\n",
       "        vertical-align: middle;\n",
       "    }\n",
       "\n",
       "    .dataframe tbody tr th {\n",
       "        vertical-align: top;\n",
       "    }\n",
       "\n",
       "    .dataframe thead th {\n",
       "        text-align: right;\n",
       "    }\n",
       "</style>\n",
       "<table border=\"1\" class=\"dataframe\">\n",
       "  <thead>\n",
       "    <tr style=\"text-align: right;\">\n",
       "      <th></th>\n",
       "      <th>depth=4.0</th>\n",
       "      <th>depth=6.0</th>\n",
       "      <th>depth=8.0</th>\n",
       "      <th>depth=10.0</th>\n",
       "      <th>depth=12.0</th>\n",
       "      <th>depth=14.0</th>\n",
       "    </tr>\n",
       "  </thead>\n",
       "  <tbody>\n",
       "    <tr>\n",
       "      <th>rpm=5.0</th>\n",
       "      <td>47.94</td>\n",
       "      <td>71.50</td>\n",
       "      <td>94.71</td>\n",
       "      <td>117.54</td>\n",
       "      <td>139.98</td>\n",
       "      <td>162.03</td>\n",
       "    </tr>\n",
       "    <tr>\n",
       "      <th>rpm=10.0</th>\n",
       "      <td>95.88</td>\n",
       "      <td>143.00</td>\n",
       "      <td>189.41</td>\n",
       "      <td>235.07</td>\n",
       "      <td>279.96</td>\n",
       "      <td>324.05</td>\n",
       "    </tr>\n",
       "    <tr>\n",
       "      <th>rpm=15.0</th>\n",
       "      <td>143.83</td>\n",
       "      <td>214.51</td>\n",
       "      <td>284.12</td>\n",
       "      <td>352.61</td>\n",
       "      <td>419.93</td>\n",
       "      <td>486.08</td>\n",
       "    </tr>\n",
       "    <tr>\n",
       "      <th>rpm=20.0</th>\n",
       "      <td>191.77</td>\n",
       "      <td>286.01</td>\n",
       "      <td>378.83</td>\n",
       "      <td>470.14</td>\n",
       "      <td>559.91</td>\n",
       "      <td>648.10</td>\n",
       "    </tr>\n",
       "    <tr>\n",
       "      <th>rpm=25.0</th>\n",
       "      <td>239.71</td>\n",
       "      <td>357.51</td>\n",
       "      <td>473.53</td>\n",
       "      <td>587.68</td>\n",
       "      <td>699.89</td>\n",
       "      <td>810.13</td>\n",
       "    </tr>\n",
       "    <tr>\n",
       "      <th>rpm=30.0</th>\n",
       "      <td>287.65</td>\n",
       "      <td>429.01</td>\n",
       "      <td>568.24</td>\n",
       "      <td>705.21</td>\n",
       "      <td>839.87</td>\n",
       "      <td>972.15</td>\n",
       "    </tr>\n",
       "    <tr>\n",
       "      <th>rpm=35.0</th>\n",
       "      <td>335.60</td>\n",
       "      <td>500.51</td>\n",
       "      <td>662.94</td>\n",
       "      <td>822.75</td>\n",
       "      <td>979.85</td>\n",
       "      <td>1134.18</td>\n",
       "    </tr>\n",
       "    <tr>\n",
       "      <th>rpm=40.0</th>\n",
       "      <td>383.54</td>\n",
       "      <td>572.01</td>\n",
       "      <td>757.65</td>\n",
       "      <td>940.28</td>\n",
       "      <td>1119.83</td>\n",
       "      <td>1296.21</td>\n",
       "    </tr>\n",
       "    <tr>\n",
       "      <th>rpm=45.0</th>\n",
       "      <td>431.48</td>\n",
       "      <td>643.52</td>\n",
       "      <td>852.36</td>\n",
       "      <td>1057.82</td>\n",
       "      <td>1259.80</td>\n",
       "      <td>1458.23</td>\n",
       "    </tr>\n",
       "    <tr>\n",
       "      <th>rpm=50.0</th>\n",
       "      <td>479.42</td>\n",
       "      <td>715.02</td>\n",
       "      <td>947.06</td>\n",
       "      <td>1175.36</td>\n",
       "      <td>1399.78</td>\n",
       "      <td>1620.26</td>\n",
       "    </tr>\n",
       "  </tbody>\n",
       "</table>\n",
       "</div>"
      ],
      "text/plain": [
       "          depth=4.0  depth=6.0  depth=8.0  depth=10.0  depth=12.0  depth=14.0\n",
       "rpm=5.0       47.94      71.50      94.71      117.54      139.98      162.03\n",
       "rpm=10.0      95.88     143.00     189.41      235.07      279.96      324.05\n",
       "rpm=15.0     143.83     214.51     284.12      352.61      419.93      486.08\n",
       "rpm=20.0     191.77     286.01     378.83      470.14      559.91      648.10\n",
       "rpm=25.0     239.71     357.51     473.53      587.68      699.89      810.13\n",
       "rpm=30.0     287.65     429.01     568.24      705.21      839.87      972.15\n",
       "rpm=35.0     335.60     500.51     662.94      822.75      979.85     1134.18\n",
       "rpm=40.0     383.54     572.01     757.65      940.28     1119.83     1296.21\n",
       "rpm=45.0     431.48     643.52     852.36     1057.82     1259.80     1458.23\n",
       "rpm=50.0     479.42     715.02     947.06     1175.36     1399.78     1620.26"
      ]
     },
     "execution_count": 3,
     "metadata": {},
     "output_type": "execute_result"
    }
   ],
   "source": [
    "throughput_table(200, 800, max_depth=14) # `max_depth` was used to fit the width of the table"
   ]
  },
  {
   "cell_type": "markdown",
   "metadata": {},
   "source": [
    "### Generate a plot of throughput in extrusion process\n",
    "\n",
    "`throughput_plot(size, density, pitch=None, w_flight=None, n_flight=1, min_depth=None, max_depth=None, delta_depth=None, min_rpm=0, max_rpm=50, delta_rpm=1)` generates a plot containing the extrusion throughput with respect to channel depth and screw RPM"
   ]
  },
  {
   "cell_type": "code",
   "execution_count": 4,
   "metadata": {},
   "outputs": [
    {
     "data": {
      "text/html": [
       "\n",
       "<div id=\"altair-viz-d774111551f5416a92ec255a93ea3fba\"></div>\n",
       "<script type=\"text/javascript\">\n",
       "  var VEGA_DEBUG = (typeof VEGA_DEBUG == \"undefined\") ? {} : VEGA_DEBUG;\n",
       "  (function(spec, embedOpt){\n",
       "    let outputDiv = document.currentScript.previousElementSibling;\n",
       "    if (outputDiv.id !== \"altair-viz-d774111551f5416a92ec255a93ea3fba\") {\n",
       "      outputDiv = document.getElementById(\"altair-viz-d774111551f5416a92ec255a93ea3fba\");\n",
       "    }\n",
       "    const paths = {\n",
       "      \"vega\": \"https://cdn.jsdelivr.net/npm//vega@5?noext\",\n",
       "      \"vega-lib\": \"https://cdn.jsdelivr.net/npm//vega-lib?noext\",\n",
       "      \"vega-lite\": \"https://cdn.jsdelivr.net/npm//vega-lite@4.17.0?noext\",\n",
       "      \"vega-embed\": \"https://cdn.jsdelivr.net/npm//vega-embed@6?noext\",\n",
       "    };\n",
       "\n",
       "    function maybeLoadScript(lib, version) {\n",
       "      var key = `${lib.replace(\"-\", \"\")}_version`;\n",
       "      return (VEGA_DEBUG[key] == version) ?\n",
       "        Promise.resolve(paths[lib]) :\n",
       "        new Promise(function(resolve, reject) {\n",
       "          var s = document.createElement('script');\n",
       "          document.getElementsByTagName(\"head\")[0].appendChild(s);\n",
       "          s.async = true;\n",
       "          s.onload = () => {\n",
       "            VEGA_DEBUG[key] = version;\n",
       "            return resolve(paths[lib]);\n",
       "          };\n",
       "          s.onerror = () => reject(`Error loading script: ${paths[lib]}`);\n",
       "          s.src = paths[lib];\n",
       "        });\n",
       "    }\n",
       "\n",
       "    function showError(err) {\n",
       "      outputDiv.innerHTML = `<div class=\"error\" style=\"color:red;\">${err}</div>`;\n",
       "      throw err;\n",
       "    }\n",
       "\n",
       "    function displayChart(vegaEmbed) {\n",
       "      vegaEmbed(outputDiv, spec, embedOpt)\n",
       "        .catch(err => showError(`Javascript Error: ${err.message}<br>This usually means there's a typo in your chart specification. See the javascript console for the full traceback.`));\n",
       "    }\n",
       "\n",
       "    if(typeof define === \"function\" && define.amd) {\n",
       "      requirejs.config({paths});\n",
       "      require([\"vega-embed\"], displayChart, err => showError(`Error loading script: ${err.message}`));\n",
       "    } else {\n",
       "      maybeLoadScript(\"vega\", \"5\")\n",
       "        .then(() => maybeLoadScript(\"vega-lite\", \"4.17.0\"))\n",
       "        .then(() => maybeLoadScript(\"vega-embed\", \"6\"))\n",
       "        .catch(showError)\n",
       "        .then(() => displayChart(vegaEmbed));\n",
       "    }\n",
       "  })({\"config\": {\"view\": {\"continuousWidth\": 400, \"continuousHeight\": 300}, \"axis\": {\"labelFontSize\": 14, \"titleFontSize\": 16}, \"legend\": {\"labelFontSize\": 16, \"titleFontSize\": 14}, \"title\": {\"fontSize\": 18}}, \"data\": {\"name\": \"data-396c81a780a5ab7d8ff80d66b012cd38\"}, \"mark\": \"circle\", \"encoding\": {\"color\": {\"field\": \"depth\", \"sort\": {\"field\": \"throughput\", \"op\": \"mean\", \"order\": \"descending\"}, \"title\": \"Channel depth [mm]\", \"type\": \"nominal\"}, \"tooltip\": [{\"field\": \"RPM\", \"type\": \"quantitative\"}, {\"field\": \"depth\", \"type\": \"nominal\"}, {\"field\": \"throughput\", \"type\": \"quantitative\"}], \"x\": {\"field\": \"RPM\", \"scale\": {\"domain\": [0, 50]}, \"title\": \"Screw RPM\", \"type\": \"quantitative\"}, \"y\": {\"field\": \"throughput\", \"title\": \"Throughput [kg/hr]\", \"type\": \"quantitative\"}}, \"title\": \"Throughput vs Screw RPM & Channel Depth\", \"$schema\": \"https://vega.github.io/schema/vega-lite/v4.17.0.json\", \"datasets\": {\"data-396c81a780a5ab7d8ff80d66b012cd38\": [{\"RPM\": 0.0, \"depth\": 4.0, \"throughput\": 0.0}, {\"RPM\": 1.0, \"depth\": 4.0, \"throughput\": 9.59}, {\"RPM\": 2.0, \"depth\": 4.0, \"throughput\": 19.18}, {\"RPM\": 3.0, \"depth\": 4.0, \"throughput\": 28.77}, {\"RPM\": 4.0, \"depth\": 4.0, \"throughput\": 38.35}, {\"RPM\": 5.0, \"depth\": 4.0, \"throughput\": 47.94}, {\"RPM\": 6.0, \"depth\": 4.0, \"throughput\": 57.53}, {\"RPM\": 7.0, \"depth\": 4.0, \"throughput\": 67.12}, {\"RPM\": 8.0, \"depth\": 4.0, \"throughput\": 76.71}, {\"RPM\": 9.0, \"depth\": 4.0, \"throughput\": 86.3}, {\"RPM\": 10.0, \"depth\": 4.0, \"throughput\": 95.88}, {\"RPM\": 11.0, \"depth\": 4.0, \"throughput\": 105.47}, {\"RPM\": 12.0, \"depth\": 4.0, \"throughput\": 115.06}, {\"RPM\": 13.0, \"depth\": 4.0, \"throughput\": 124.65}, {\"RPM\": 14.0, \"depth\": 4.0, \"throughput\": 134.24}, {\"RPM\": 15.0, \"depth\": 4.0, \"throughput\": 143.83}, {\"RPM\": 16.0, \"depth\": 4.0, \"throughput\": 153.42}, {\"RPM\": 17.0, \"depth\": 4.0, \"throughput\": 163.0}, {\"RPM\": 18.0, \"depth\": 4.0, \"throughput\": 172.59}, {\"RPM\": 19.0, \"depth\": 4.0, \"throughput\": 182.18}, {\"RPM\": 20.0, \"depth\": 4.0, \"throughput\": 191.77}, {\"RPM\": 21.0, \"depth\": 4.0, \"throughput\": 201.36}, {\"RPM\": 22.0, \"depth\": 4.0, \"throughput\": 210.95}, {\"RPM\": 23.0, \"depth\": 4.0, \"throughput\": 220.54}, {\"RPM\": 24.0, \"depth\": 4.0, \"throughput\": 230.12}, {\"RPM\": 25.0, \"depth\": 4.0, \"throughput\": 239.71}, {\"RPM\": 26.0, \"depth\": 4.0, \"throughput\": 249.3}, {\"RPM\": 27.0, \"depth\": 4.0, \"throughput\": 258.89}, {\"RPM\": 28.0, \"depth\": 4.0, \"throughput\": 268.48}, {\"RPM\": 29.0, \"depth\": 4.0, \"throughput\": 278.07}, {\"RPM\": 30.0, \"depth\": 4.0, \"throughput\": 287.65}, {\"RPM\": 31.0, \"depth\": 4.0, \"throughput\": 297.24}, {\"RPM\": 32.0, \"depth\": 4.0, \"throughput\": 306.83}, {\"RPM\": 33.0, \"depth\": 4.0, \"throughput\": 316.42}, {\"RPM\": 34.0, \"depth\": 4.0, \"throughput\": 326.01}, {\"RPM\": 35.0, \"depth\": 4.0, \"throughput\": 335.6}, {\"RPM\": 36.0, \"depth\": 4.0, \"throughput\": 345.19}, {\"RPM\": 37.0, \"depth\": 4.0, \"throughput\": 354.77}, {\"RPM\": 38.0, \"depth\": 4.0, \"throughput\": 364.36}, {\"RPM\": 39.0, \"depth\": 4.0, \"throughput\": 373.95}, {\"RPM\": 40.0, \"depth\": 4.0, \"throughput\": 383.54}, {\"RPM\": 41.0, \"depth\": 4.0, \"throughput\": 393.13}, {\"RPM\": 42.0, \"depth\": 4.0, \"throughput\": 402.72}, {\"RPM\": 43.0, \"depth\": 4.0, \"throughput\": 412.31}, {\"RPM\": 44.0, \"depth\": 4.0, \"throughput\": 421.89}, {\"RPM\": 45.0, \"depth\": 4.0, \"throughput\": 431.48}, {\"RPM\": 46.0, \"depth\": 4.0, \"throughput\": 441.07}, {\"RPM\": 47.0, \"depth\": 4.0, \"throughput\": 450.66}, {\"RPM\": 48.0, \"depth\": 4.0, \"throughput\": 460.25}, {\"RPM\": 49.0, \"depth\": 4.0, \"throughput\": 469.84}, {\"RPM\": 50.0, \"depth\": 4.0, \"throughput\": 479.42}, {\"RPM\": 0.0, \"depth\": 6.0, \"throughput\": 0.0}, {\"RPM\": 1.0, \"depth\": 6.0, \"throughput\": 14.3}, {\"RPM\": 2.0, \"depth\": 6.0, \"throughput\": 28.6}, {\"RPM\": 3.0, \"depth\": 6.0, \"throughput\": 42.9}, {\"RPM\": 4.0, \"depth\": 6.0, \"throughput\": 57.2}, {\"RPM\": 5.0, \"depth\": 6.0, \"throughput\": 71.5}, {\"RPM\": 6.0, \"depth\": 6.0, \"throughput\": 85.8}, {\"RPM\": 7.0, \"depth\": 6.0, \"throughput\": 100.1}, {\"RPM\": 8.0, \"depth\": 6.0, \"throughput\": 114.4}, {\"RPM\": 9.0, \"depth\": 6.0, \"throughput\": 128.7}, {\"RPM\": 10.0, \"depth\": 6.0, \"throughput\": 143.0}, {\"RPM\": 11.0, \"depth\": 6.0, \"throughput\": 157.3}, {\"RPM\": 12.0, \"depth\": 6.0, \"throughput\": 171.6}, {\"RPM\": 13.0, \"depth\": 6.0, \"throughput\": 185.9}, {\"RPM\": 14.0, \"depth\": 6.0, \"throughput\": 200.21}, {\"RPM\": 15.0, \"depth\": 6.0, \"throughput\": 214.51}, {\"RPM\": 16.0, \"depth\": 6.0, \"throughput\": 228.81}, {\"RPM\": 17.0, \"depth\": 6.0, \"throughput\": 243.11}, {\"RPM\": 18.0, \"depth\": 6.0, \"throughput\": 257.41}, {\"RPM\": 19.0, \"depth\": 6.0, \"throughput\": 271.71}, {\"RPM\": 20.0, \"depth\": 6.0, \"throughput\": 286.01}, {\"RPM\": 21.0, \"depth\": 6.0, \"throughput\": 300.31}, {\"RPM\": 22.0, \"depth\": 6.0, \"throughput\": 314.61}, {\"RPM\": 23.0, \"depth\": 6.0, \"throughput\": 328.91}, {\"RPM\": 24.0, \"depth\": 6.0, \"throughput\": 343.21}, {\"RPM\": 25.0, \"depth\": 6.0, \"throughput\": 357.51}, {\"RPM\": 26.0, \"depth\": 6.0, \"throughput\": 371.81}, {\"RPM\": 27.0, \"depth\": 6.0, \"throughput\": 386.11}, {\"RPM\": 28.0, \"depth\": 6.0, \"throughput\": 400.41}, {\"RPM\": 29.0, \"depth\": 6.0, \"throughput\": 414.71}, {\"RPM\": 30.0, \"depth\": 6.0, \"throughput\": 429.01}, {\"RPM\": 31.0, \"depth\": 6.0, \"throughput\": 443.31}, {\"RPM\": 32.0, \"depth\": 6.0, \"throughput\": 457.61}, {\"RPM\": 33.0, \"depth\": 6.0, \"throughput\": 471.91}, {\"RPM\": 34.0, \"depth\": 6.0, \"throughput\": 486.21}, {\"RPM\": 35.0, \"depth\": 6.0, \"throughput\": 500.51}, {\"RPM\": 36.0, \"depth\": 6.0, \"throughput\": 514.81}, {\"RPM\": 37.0, \"depth\": 6.0, \"throughput\": 529.11}, {\"RPM\": 38.0, \"depth\": 6.0, \"throughput\": 543.41}, {\"RPM\": 39.0, \"depth\": 6.0, \"throughput\": 557.71}, {\"RPM\": 40.0, \"depth\": 6.0, \"throughput\": 572.01}, {\"RPM\": 41.0, \"depth\": 6.0, \"throughput\": 586.31}, {\"RPM\": 42.0, \"depth\": 6.0, \"throughput\": 600.62}, {\"RPM\": 43.0, \"depth\": 6.0, \"throughput\": 614.92}, {\"RPM\": 44.0, \"depth\": 6.0, \"throughput\": 629.22}, {\"RPM\": 45.0, \"depth\": 6.0, \"throughput\": 643.52}, {\"RPM\": 46.0, \"depth\": 6.0, \"throughput\": 657.82}, {\"RPM\": 47.0, \"depth\": 6.0, \"throughput\": 672.12}, {\"RPM\": 48.0, \"depth\": 6.0, \"throughput\": 686.42}, {\"RPM\": 49.0, \"depth\": 6.0, \"throughput\": 700.72}, {\"RPM\": 50.0, \"depth\": 6.0, \"throughput\": 715.02}, {\"RPM\": 0.0, \"depth\": 8.0, \"throughput\": 0.0}, {\"RPM\": 1.0, \"depth\": 8.0, \"throughput\": 18.94}, {\"RPM\": 2.0, \"depth\": 8.0, \"throughput\": 37.88}, {\"RPM\": 3.0, \"depth\": 8.0, \"throughput\": 56.82}, {\"RPM\": 4.0, \"depth\": 8.0, \"throughput\": 75.77}, {\"RPM\": 5.0, \"depth\": 8.0, \"throughput\": 94.71}, {\"RPM\": 6.0, \"depth\": 8.0, \"throughput\": 113.65}, {\"RPM\": 7.0, \"depth\": 8.0, \"throughput\": 132.59}, {\"RPM\": 8.0, \"depth\": 8.0, \"throughput\": 151.53}, {\"RPM\": 9.0, \"depth\": 8.0, \"throughput\": 170.47}, {\"RPM\": 10.0, \"depth\": 8.0, \"throughput\": 189.41}, {\"RPM\": 11.0, \"depth\": 8.0, \"throughput\": 208.35}, {\"RPM\": 12.0, \"depth\": 8.0, \"throughput\": 227.3}, {\"RPM\": 13.0, \"depth\": 8.0, \"throughput\": 246.24}, {\"RPM\": 14.0, \"depth\": 8.0, \"throughput\": 265.18}, {\"RPM\": 15.0, \"depth\": 8.0, \"throughput\": 284.12}, {\"RPM\": 16.0, \"depth\": 8.0, \"throughput\": 303.06}, {\"RPM\": 17.0, \"depth\": 8.0, \"throughput\": 322.0}, {\"RPM\": 18.0, \"depth\": 8.0, \"throughput\": 340.94}, {\"RPM\": 19.0, \"depth\": 8.0, \"throughput\": 359.88}, {\"RPM\": 20.0, \"depth\": 8.0, \"throughput\": 378.83}, {\"RPM\": 21.0, \"depth\": 8.0, \"throughput\": 397.77}, {\"RPM\": 22.0, \"depth\": 8.0, \"throughput\": 416.71}, {\"RPM\": 23.0, \"depth\": 8.0, \"throughput\": 435.65}, {\"RPM\": 24.0, \"depth\": 8.0, \"throughput\": 454.59}, {\"RPM\": 25.0, \"depth\": 8.0, \"throughput\": 473.53}, {\"RPM\": 26.0, \"depth\": 8.0, \"throughput\": 492.47}, {\"RPM\": 27.0, \"depth\": 8.0, \"throughput\": 511.41}, {\"RPM\": 28.0, \"depth\": 8.0, \"throughput\": 530.36}, {\"RPM\": 29.0, \"depth\": 8.0, \"throughput\": 549.3}, {\"RPM\": 30.0, \"depth\": 8.0, \"throughput\": 568.24}, {\"RPM\": 31.0, \"depth\": 8.0, \"throughput\": 587.18}, {\"RPM\": 32.0, \"depth\": 8.0, \"throughput\": 606.12}, {\"RPM\": 33.0, \"depth\": 8.0, \"throughput\": 625.06}, {\"RPM\": 34.0, \"depth\": 8.0, \"throughput\": 644.0}, {\"RPM\": 35.0, \"depth\": 8.0, \"throughput\": 662.94}, {\"RPM\": 36.0, \"depth\": 8.0, \"throughput\": 681.89}, {\"RPM\": 37.0, \"depth\": 8.0, \"throughput\": 700.83}, {\"RPM\": 38.0, \"depth\": 8.0, \"throughput\": 719.77}, {\"RPM\": 39.0, \"depth\": 8.0, \"throughput\": 738.71}, {\"RPM\": 40.0, \"depth\": 8.0, \"throughput\": 757.65}, {\"RPM\": 41.0, \"depth\": 8.0, \"throughput\": 776.59}, {\"RPM\": 42.0, \"depth\": 8.0, \"throughput\": 795.53}, {\"RPM\": 43.0, \"depth\": 8.0, \"throughput\": 814.47}, {\"RPM\": 44.0, \"depth\": 8.0, \"throughput\": 833.42}, {\"RPM\": 45.0, \"depth\": 8.0, \"throughput\": 852.36}, {\"RPM\": 46.0, \"depth\": 8.0, \"throughput\": 871.3}, {\"RPM\": 47.0, \"depth\": 8.0, \"throughput\": 890.24}, {\"RPM\": 48.0, \"depth\": 8.0, \"throughput\": 909.18}, {\"RPM\": 49.0, \"depth\": 8.0, \"throughput\": 928.12}, {\"RPM\": 50.0, \"depth\": 8.0, \"throughput\": 947.06}, {\"RPM\": 0.0, \"depth\": 10.0, \"throughput\": 0.0}, {\"RPM\": 1.0, \"depth\": 10.0, \"throughput\": 23.51}, {\"RPM\": 2.0, \"depth\": 10.0, \"throughput\": 47.01}, {\"RPM\": 3.0, \"depth\": 10.0, \"throughput\": 70.52}, {\"RPM\": 4.0, \"depth\": 10.0, \"throughput\": 94.03}, {\"RPM\": 5.0, \"depth\": 10.0, \"throughput\": 117.54}, {\"RPM\": 6.0, \"depth\": 10.0, \"throughput\": 141.04}, {\"RPM\": 7.0, \"depth\": 10.0, \"throughput\": 164.55}, {\"RPM\": 8.0, \"depth\": 10.0, \"throughput\": 188.06}, {\"RPM\": 9.0, \"depth\": 10.0, \"throughput\": 211.56}, {\"RPM\": 10.0, \"depth\": 10.0, \"throughput\": 235.07}, {\"RPM\": 11.0, \"depth\": 10.0, \"throughput\": 258.58}, {\"RPM\": 12.0, \"depth\": 10.0, \"throughput\": 282.09}, {\"RPM\": 13.0, \"depth\": 10.0, \"throughput\": 305.59}, {\"RPM\": 14.0, \"depth\": 10.0, \"throughput\": 329.1}, {\"RPM\": 15.0, \"depth\": 10.0, \"throughput\": 352.61}, {\"RPM\": 16.0, \"depth\": 10.0, \"throughput\": 376.11}, {\"RPM\": 17.0, \"depth\": 10.0, \"throughput\": 399.62}, {\"RPM\": 18.0, \"depth\": 10.0, \"throughput\": 423.13}, {\"RPM\": 19.0, \"depth\": 10.0, \"throughput\": 446.64}, {\"RPM\": 20.0, \"depth\": 10.0, \"throughput\": 470.14}, {\"RPM\": 21.0, \"depth\": 10.0, \"throughput\": 493.65}, {\"RPM\": 22.0, \"depth\": 10.0, \"throughput\": 517.16}, {\"RPM\": 23.0, \"depth\": 10.0, \"throughput\": 540.66}, {\"RPM\": 24.0, \"depth\": 10.0, \"throughput\": 564.17}, {\"RPM\": 25.0, \"depth\": 10.0, \"throughput\": 587.68}, {\"RPM\": 26.0, \"depth\": 10.0, \"throughput\": 611.18}, {\"RPM\": 27.0, \"depth\": 10.0, \"throughput\": 634.69}, {\"RPM\": 28.0, \"depth\": 10.0, \"throughput\": 658.2}, {\"RPM\": 29.0, \"depth\": 10.0, \"throughput\": 681.71}, {\"RPM\": 30.0, \"depth\": 10.0, \"throughput\": 705.21}, {\"RPM\": 31.0, \"depth\": 10.0, \"throughput\": 728.72}, {\"RPM\": 32.0, \"depth\": 10.0, \"throughput\": 752.23}, {\"RPM\": 33.0, \"depth\": 10.0, \"throughput\": 775.73}, {\"RPM\": 34.0, \"depth\": 10.0, \"throughput\": 799.24}, {\"RPM\": 35.0, \"depth\": 10.0, \"throughput\": 822.75}, {\"RPM\": 36.0, \"depth\": 10.0, \"throughput\": 846.26}, {\"RPM\": 37.0, \"depth\": 10.0, \"throughput\": 869.76}, {\"RPM\": 38.0, \"depth\": 10.0, \"throughput\": 893.27}, {\"RPM\": 39.0, \"depth\": 10.0, \"throughput\": 916.78}, {\"RPM\": 40.0, \"depth\": 10.0, \"throughput\": 940.28}, {\"RPM\": 41.0, \"depth\": 10.0, \"throughput\": 963.79}, {\"RPM\": 42.0, \"depth\": 10.0, \"throughput\": 987.3}, {\"RPM\": 43.0, \"depth\": 10.0, \"throughput\": 1010.81}, {\"RPM\": 44.0, \"depth\": 10.0, \"throughput\": 1034.31}, {\"RPM\": 45.0, \"depth\": 10.0, \"throughput\": 1057.82}, {\"RPM\": 46.0, \"depth\": 10.0, \"throughput\": 1081.33}, {\"RPM\": 47.0, \"depth\": 10.0, \"throughput\": 1104.83}, {\"RPM\": 48.0, \"depth\": 10.0, \"throughput\": 1128.34}, {\"RPM\": 49.0, \"depth\": 10.0, \"throughput\": 1151.85}, {\"RPM\": 50.0, \"depth\": 10.0, \"throughput\": 1175.36}, {\"RPM\": 0.0, \"depth\": 12.0, \"throughput\": 0.0}, {\"RPM\": 1.0, \"depth\": 12.0, \"throughput\": 28.0}, {\"RPM\": 2.0, \"depth\": 12.0, \"throughput\": 55.99}, {\"RPM\": 3.0, \"depth\": 12.0, \"throughput\": 83.99}, {\"RPM\": 4.0, \"depth\": 12.0, \"throughput\": 111.98}, {\"RPM\": 5.0, \"depth\": 12.0, \"throughput\": 139.98}, {\"RPM\": 6.0, \"depth\": 12.0, \"throughput\": 167.97}, {\"RPM\": 7.0, \"depth\": 12.0, \"throughput\": 195.97}, {\"RPM\": 8.0, \"depth\": 12.0, \"throughput\": 223.97}, {\"RPM\": 9.0, \"depth\": 12.0, \"throughput\": 251.96}, {\"RPM\": 10.0, \"depth\": 12.0, \"throughput\": 279.96}, {\"RPM\": 11.0, \"depth\": 12.0, \"throughput\": 307.95}, {\"RPM\": 12.0, \"depth\": 12.0, \"throughput\": 335.95}, {\"RPM\": 13.0, \"depth\": 12.0, \"throughput\": 363.94}, {\"RPM\": 14.0, \"depth\": 12.0, \"throughput\": 391.94}, {\"RPM\": 15.0, \"depth\": 12.0, \"throughput\": 419.93}, {\"RPM\": 16.0, \"depth\": 12.0, \"throughput\": 447.93}, {\"RPM\": 17.0, \"depth\": 12.0, \"throughput\": 475.93}, {\"RPM\": 18.0, \"depth\": 12.0, \"throughput\": 503.92}, {\"RPM\": 19.0, \"depth\": 12.0, \"throughput\": 531.92}, {\"RPM\": 20.0, \"depth\": 12.0, \"throughput\": 559.91}, {\"RPM\": 21.0, \"depth\": 12.0, \"throughput\": 587.91}, {\"RPM\": 22.0, \"depth\": 12.0, \"throughput\": 615.9}, {\"RPM\": 23.0, \"depth\": 12.0, \"throughput\": 643.9}, {\"RPM\": 24.0, \"depth\": 12.0, \"throughput\": 671.9}, {\"RPM\": 25.0, \"depth\": 12.0, \"throughput\": 699.89}, {\"RPM\": 26.0, \"depth\": 12.0, \"throughput\": 727.89}, {\"RPM\": 27.0, \"depth\": 12.0, \"throughput\": 755.88}, {\"RPM\": 28.0, \"depth\": 12.0, \"throughput\": 783.88}, {\"RPM\": 29.0, \"depth\": 12.0, \"throughput\": 811.87}, {\"RPM\": 30.0, \"depth\": 12.0, \"throughput\": 839.87}, {\"RPM\": 31.0, \"depth\": 12.0, \"throughput\": 867.87}, {\"RPM\": 32.0, \"depth\": 12.0, \"throughput\": 895.86}, {\"RPM\": 33.0, \"depth\": 12.0, \"throughput\": 923.86}, {\"RPM\": 34.0, \"depth\": 12.0, \"throughput\": 951.85}, {\"RPM\": 35.0, \"depth\": 12.0, \"throughput\": 979.85}, {\"RPM\": 36.0, \"depth\": 12.0, \"throughput\": 1007.84}, {\"RPM\": 37.0, \"depth\": 12.0, \"throughput\": 1035.84}, {\"RPM\": 38.0, \"depth\": 12.0, \"throughput\": 1063.83}, {\"RPM\": 39.0, \"depth\": 12.0, \"throughput\": 1091.83}, {\"RPM\": 40.0, \"depth\": 12.0, \"throughput\": 1119.83}, {\"RPM\": 41.0, \"depth\": 12.0, \"throughput\": 1147.82}, {\"RPM\": 42.0, \"depth\": 12.0, \"throughput\": 1175.82}, {\"RPM\": 43.0, \"depth\": 12.0, \"throughput\": 1203.81}, {\"RPM\": 44.0, \"depth\": 12.0, \"throughput\": 1231.81}, {\"RPM\": 45.0, \"depth\": 12.0, \"throughput\": 1259.8}, {\"RPM\": 46.0, \"depth\": 12.0, \"throughput\": 1287.8}, {\"RPM\": 47.0, \"depth\": 12.0, \"throughput\": 1315.8}, {\"RPM\": 48.0, \"depth\": 12.0, \"throughput\": 1343.79}, {\"RPM\": 49.0, \"depth\": 12.0, \"throughput\": 1371.79}, {\"RPM\": 50.0, \"depth\": 12.0, \"throughput\": 1399.78}, {\"RPM\": 0.0, \"depth\": 14.0, \"throughput\": 0.0}, {\"RPM\": 1.0, \"depth\": 14.0, \"throughput\": 32.41}, {\"RPM\": 2.0, \"depth\": 14.0, \"throughput\": 64.81}, {\"RPM\": 3.0, \"depth\": 14.0, \"throughput\": 97.22}, {\"RPM\": 4.0, \"depth\": 14.0, \"throughput\": 129.62}, {\"RPM\": 5.0, \"depth\": 14.0, \"throughput\": 162.03}, {\"RPM\": 6.0, \"depth\": 14.0, \"throughput\": 194.43}, {\"RPM\": 7.0, \"depth\": 14.0, \"throughput\": 226.84}, {\"RPM\": 8.0, \"depth\": 14.0, \"throughput\": 259.24}, {\"RPM\": 9.0, \"depth\": 14.0, \"throughput\": 291.65}, {\"RPM\": 10.0, \"depth\": 14.0, \"throughput\": 324.05}, {\"RPM\": 11.0, \"depth\": 14.0, \"throughput\": 356.46}, {\"RPM\": 12.0, \"depth\": 14.0, \"throughput\": 388.86}, {\"RPM\": 13.0, \"depth\": 14.0, \"throughput\": 421.27}, {\"RPM\": 14.0, \"depth\": 14.0, \"throughput\": 453.67}, {\"RPM\": 15.0, \"depth\": 14.0, \"throughput\": 486.08}, {\"RPM\": 16.0, \"depth\": 14.0, \"throughput\": 518.48}, {\"RPM\": 17.0, \"depth\": 14.0, \"throughput\": 550.89}, {\"RPM\": 18.0, \"depth\": 14.0, \"throughput\": 583.29}, {\"RPM\": 19.0, \"depth\": 14.0, \"throughput\": 615.7}, {\"RPM\": 20.0, \"depth\": 14.0, \"throughput\": 648.1}, {\"RPM\": 21.0, \"depth\": 14.0, \"throughput\": 680.51}, {\"RPM\": 22.0, \"depth\": 14.0, \"throughput\": 712.91}, {\"RPM\": 23.0, \"depth\": 14.0, \"throughput\": 745.32}, {\"RPM\": 24.0, \"depth\": 14.0, \"throughput\": 777.72}, {\"RPM\": 25.0, \"depth\": 14.0, \"throughput\": 810.13}, {\"RPM\": 26.0, \"depth\": 14.0, \"throughput\": 842.53}, {\"RPM\": 27.0, \"depth\": 14.0, \"throughput\": 874.94}, {\"RPM\": 28.0, \"depth\": 14.0, \"throughput\": 907.34}, {\"RPM\": 29.0, \"depth\": 14.0, \"throughput\": 939.75}, {\"RPM\": 30.0, \"depth\": 14.0, \"throughput\": 972.15}, {\"RPM\": 31.0, \"depth\": 14.0, \"throughput\": 1004.56}, {\"RPM\": 32.0, \"depth\": 14.0, \"throughput\": 1036.97}, {\"RPM\": 33.0, \"depth\": 14.0, \"throughput\": 1069.37}, {\"RPM\": 34.0, \"depth\": 14.0, \"throughput\": 1101.78}, {\"RPM\": 35.0, \"depth\": 14.0, \"throughput\": 1134.18}, {\"RPM\": 36.0, \"depth\": 14.0, \"throughput\": 1166.59}, {\"RPM\": 37.0, \"depth\": 14.0, \"throughput\": 1198.99}, {\"RPM\": 38.0, \"depth\": 14.0, \"throughput\": 1231.4}, {\"RPM\": 39.0, \"depth\": 14.0, \"throughput\": 1263.8}, {\"RPM\": 40.0, \"depth\": 14.0, \"throughput\": 1296.21}, {\"RPM\": 41.0, \"depth\": 14.0, \"throughput\": 1328.61}, {\"RPM\": 42.0, \"depth\": 14.0, \"throughput\": 1361.02}, {\"RPM\": 43.0, \"depth\": 14.0, \"throughput\": 1393.42}, {\"RPM\": 44.0, \"depth\": 14.0, \"throughput\": 1425.83}, {\"RPM\": 45.0, \"depth\": 14.0, \"throughput\": 1458.23}, {\"RPM\": 46.0, \"depth\": 14.0, \"throughput\": 1490.64}, {\"RPM\": 47.0, \"depth\": 14.0, \"throughput\": 1523.04}, {\"RPM\": 48.0, \"depth\": 14.0, \"throughput\": 1555.45}, {\"RPM\": 49.0, \"depth\": 14.0, \"throughput\": 1587.85}, {\"RPM\": 50.0, \"depth\": 14.0, \"throughput\": 1620.26}, {\"RPM\": 0.0, \"depth\": 16.0, \"throughput\": 0.0}, {\"RPM\": 1.0, \"depth\": 16.0, \"throughput\": 36.73}, {\"RPM\": 2.0, \"depth\": 16.0, \"throughput\": 73.47}, {\"RPM\": 3.0, \"depth\": 16.0, \"throughput\": 110.2}, {\"RPM\": 4.0, \"depth\": 16.0, \"throughput\": 146.94}, {\"RPM\": 5.0, \"depth\": 16.0, \"throughput\": 183.67}, {\"RPM\": 6.0, \"depth\": 16.0, \"throughput\": 220.4}, {\"RPM\": 7.0, \"depth\": 16.0, \"throughput\": 257.14}, {\"RPM\": 8.0, \"depth\": 16.0, \"throughput\": 293.87}, {\"RPM\": 9.0, \"depth\": 16.0, \"throughput\": 330.61}, {\"RPM\": 10.0, \"depth\": 16.0, \"throughput\": 367.34}, {\"RPM\": 11.0, \"depth\": 16.0, \"throughput\": 404.07}, {\"RPM\": 12.0, \"depth\": 16.0, \"throughput\": 440.81}, {\"RPM\": 13.0, \"depth\": 16.0, \"throughput\": 477.54}, {\"RPM\": 14.0, \"depth\": 16.0, \"throughput\": 514.28}, {\"RPM\": 15.0, \"depth\": 16.0, \"throughput\": 551.01}, {\"RPM\": 16.0, \"depth\": 16.0, \"throughput\": 587.74}, {\"RPM\": 17.0, \"depth\": 16.0, \"throughput\": 624.48}, {\"RPM\": 18.0, \"depth\": 16.0, \"throughput\": 661.21}, {\"RPM\": 19.0, \"depth\": 16.0, \"throughput\": 697.95}, {\"RPM\": 20.0, \"depth\": 16.0, \"throughput\": 734.68}, {\"RPM\": 21.0, \"depth\": 16.0, \"throughput\": 771.41}, {\"RPM\": 22.0, \"depth\": 16.0, \"throughput\": 808.15}, {\"RPM\": 23.0, \"depth\": 16.0, \"throughput\": 844.88}, {\"RPM\": 24.0, \"depth\": 16.0, \"throughput\": 881.62}, {\"RPM\": 25.0, \"depth\": 16.0, \"throughput\": 918.35}, {\"RPM\": 26.0, \"depth\": 16.0, \"throughput\": 955.08}, {\"RPM\": 27.0, \"depth\": 16.0, \"throughput\": 991.82}, {\"RPM\": 28.0, \"depth\": 16.0, \"throughput\": 1028.55}, {\"RPM\": 29.0, \"depth\": 16.0, \"throughput\": 1065.29}, {\"RPM\": 30.0, \"depth\": 16.0, \"throughput\": 1102.02}, {\"RPM\": 31.0, \"depth\": 16.0, \"throughput\": 1138.75}, {\"RPM\": 32.0, \"depth\": 16.0, \"throughput\": 1175.49}, {\"RPM\": 33.0, \"depth\": 16.0, \"throughput\": 1212.22}, {\"RPM\": 34.0, \"depth\": 16.0, \"throughput\": 1248.96}, {\"RPM\": 35.0, \"depth\": 16.0, \"throughput\": 1285.69}, {\"RPM\": 36.0, \"depth\": 16.0, \"throughput\": 1322.42}, {\"RPM\": 37.0, \"depth\": 16.0, \"throughput\": 1359.16}, {\"RPM\": 38.0, \"depth\": 16.0, \"throughput\": 1395.89}, {\"RPM\": 39.0, \"depth\": 16.0, \"throughput\": 1432.63}, {\"RPM\": 40.0, \"depth\": 16.0, \"throughput\": 1469.36}, {\"RPM\": 41.0, \"depth\": 16.0, \"throughput\": 1506.09}, {\"RPM\": 42.0, \"depth\": 16.0, \"throughput\": 1542.83}, {\"RPM\": 43.0, \"depth\": 16.0, \"throughput\": 1579.56}, {\"RPM\": 44.0, \"depth\": 16.0, \"throughput\": 1616.3}, {\"RPM\": 45.0, \"depth\": 16.0, \"throughput\": 1653.03}, {\"RPM\": 46.0, \"depth\": 16.0, \"throughput\": 1689.76}, {\"RPM\": 47.0, \"depth\": 16.0, \"throughput\": 1726.5}, {\"RPM\": 48.0, \"depth\": 16.0, \"throughput\": 1763.23}, {\"RPM\": 49.0, \"depth\": 16.0, \"throughput\": 1799.97}, {\"RPM\": 50.0, \"depth\": 16.0, \"throughput\": 1836.7}, {\"RPM\": 0.0, \"depth\": 18.0, \"throughput\": 0.0}, {\"RPM\": 1.0, \"depth\": 18.0, \"throughput\": 40.98}, {\"RPM\": 2.0, \"depth\": 18.0, \"throughput\": 81.96}, {\"RPM\": 3.0, \"depth\": 18.0, \"throughput\": 122.94}, {\"RPM\": 4.0, \"depth\": 18.0, \"throughput\": 163.92}, {\"RPM\": 5.0, \"depth\": 18.0, \"throughput\": 204.9}, {\"RPM\": 6.0, \"depth\": 18.0, \"throughput\": 245.88}, {\"RPM\": 7.0, \"depth\": 18.0, \"throughput\": 286.86}, {\"RPM\": 8.0, \"depth\": 18.0, \"throughput\": 327.84}, {\"RPM\": 9.0, \"depth\": 18.0, \"throughput\": 368.82}, {\"RPM\": 10.0, \"depth\": 18.0, \"throughput\": 409.8}, {\"RPM\": 11.0, \"depth\": 18.0, \"throughput\": 450.78}, {\"RPM\": 12.0, \"depth\": 18.0, \"throughput\": 491.76}, {\"RPM\": 13.0, \"depth\": 18.0, \"throughput\": 532.74}, {\"RPM\": 14.0, \"depth\": 18.0, \"throughput\": 573.72}, {\"RPM\": 15.0, \"depth\": 18.0, \"throughput\": 614.71}, {\"RPM\": 16.0, \"depth\": 18.0, \"throughput\": 655.69}, {\"RPM\": 17.0, \"depth\": 18.0, \"throughput\": 696.67}, {\"RPM\": 18.0, \"depth\": 18.0, \"throughput\": 737.65}, {\"RPM\": 19.0, \"depth\": 18.0, \"throughput\": 778.63}, {\"RPM\": 20.0, \"depth\": 18.0, \"throughput\": 819.61}, {\"RPM\": 21.0, \"depth\": 18.0, \"throughput\": 860.59}, {\"RPM\": 22.0, \"depth\": 18.0, \"throughput\": 901.57}, {\"RPM\": 23.0, \"depth\": 18.0, \"throughput\": 942.55}, {\"RPM\": 24.0, \"depth\": 18.0, \"throughput\": 983.53}, {\"RPM\": 25.0, \"depth\": 18.0, \"throughput\": 1024.51}, {\"RPM\": 26.0, \"depth\": 18.0, \"throughput\": 1065.49}, {\"RPM\": 27.0, \"depth\": 18.0, \"throughput\": 1106.47}, {\"RPM\": 28.0, \"depth\": 18.0, \"throughput\": 1147.45}, {\"RPM\": 29.0, \"depth\": 18.0, \"throughput\": 1188.43}, {\"RPM\": 30.0, \"depth\": 18.0, \"throughput\": 1229.41}, {\"RPM\": 31.0, \"depth\": 18.0, \"throughput\": 1270.39}, {\"RPM\": 32.0, \"depth\": 18.0, \"throughput\": 1311.37}, {\"RPM\": 33.0, \"depth\": 18.0, \"throughput\": 1352.35}, {\"RPM\": 34.0, \"depth\": 18.0, \"throughput\": 1393.33}, {\"RPM\": 35.0, \"depth\": 18.0, \"throughput\": 1434.31}, {\"RPM\": 36.0, \"depth\": 18.0, \"throughput\": 1475.29}, {\"RPM\": 37.0, \"depth\": 18.0, \"throughput\": 1516.27}, {\"RPM\": 38.0, \"depth\": 18.0, \"throughput\": 1557.25}, {\"RPM\": 39.0, \"depth\": 18.0, \"throughput\": 1598.23}, {\"RPM\": 40.0, \"depth\": 18.0, \"throughput\": 1639.21}, {\"RPM\": 41.0, \"depth\": 18.0, \"throughput\": 1680.19}, {\"RPM\": 42.0, \"depth\": 18.0, \"throughput\": 1721.17}, {\"RPM\": 43.0, \"depth\": 18.0, \"throughput\": 1762.16}, {\"RPM\": 44.0, \"depth\": 18.0, \"throughput\": 1803.14}, {\"RPM\": 45.0, \"depth\": 18.0, \"throughput\": 1844.12}, {\"RPM\": 46.0, \"depth\": 18.0, \"throughput\": 1885.1}, {\"RPM\": 47.0, \"depth\": 18.0, \"throughput\": 1926.08}, {\"RPM\": 48.0, \"depth\": 18.0, \"throughput\": 1967.06}, {\"RPM\": 49.0, \"depth\": 18.0, \"throughput\": 2008.04}, {\"RPM\": 50.0, \"depth\": 18.0, \"throughput\": 2049.02}]}}, {\"mode\": \"vega-lite\"});\n",
       "</script>"
      ],
      "text/plain": [
       "alt.Chart(...)"
      ]
     },
     "execution_count": 4,
     "metadata": {},
     "output_type": "execute_result"
    }
   ],
   "source": [
    "throughput_plot(200, 800)"
   ]
  },
  {
   "cell_type": "markdown",
   "metadata": {},
   "source": [
    "## 2. Functions in `extrucal.cable_extrusion`"
   ]
  },
  {
   "cell_type": "markdown",
   "metadata": {},
   "source": [
    "### Calculate the required throughput for cable extrusion\n",
    "\n",
    "`req_throughput_cal(outer_d, thickness, l_speed, s_density)` calculates the required throughput for given outer diameter, thickness, line speed, and solid density"
   ]
  },
  {
   "cell_type": "code",
   "execution_count": 5,
   "metadata": {},
   "outputs": [
    {
     "data": {
      "text/plain": [
       "30.159"
      ]
     },
     "execution_count": 5,
     "metadata": {},
     "output_type": "execute_result"
    }
   ],
   "source": [
    "req_throughput_cal(10, 2, 10, 1000)"
   ]
  },
  {
   "cell_type": "markdown",
   "metadata": {},
   "source": [
    "### Generate a table of the required screw RPM in cable extrusion process"
   ]
  },
  {
   "cell_type": "markdown",
   "metadata": {},
   "source": [
    "`req_rpm_table(outer_d, thickness, s_density, density_ratio=0.85, min_l_speed=1, max_l_speed=10, delta_l_speed=1, min_size=20, max_size=100, delta_size=20, depth_percent=0.05)` generates a table containing the required screw RPM with respect to extruder size and line speed"
   ]
  },
  {
   "cell_type": "code",
   "execution_count": 6,
   "metadata": {},
   "outputs": [
    {
     "data": {
      "text/html": [
       "<div>\n",
       "<style scoped>\n",
       "    .dataframe tbody tr th:only-of-type {\n",
       "        vertical-align: middle;\n",
       "    }\n",
       "\n",
       "    .dataframe tbody tr th {\n",
       "        vertical-align: top;\n",
       "    }\n",
       "\n",
       "    .dataframe thead th {\n",
       "        text-align: right;\n",
       "    }\n",
       "</style>\n",
       "<table border=\"1\" class=\"dataframe\">\n",
       "  <thead>\n",
       "    <tr style=\"text-align: right;\">\n",
       "      <th></th>\n",
       "      <th>1.0mpm</th>\n",
       "      <th>2.0mpm</th>\n",
       "      <th>3.0mpm</th>\n",
       "      <th>4.0mpm</th>\n",
       "      <th>5.0mpm</th>\n",
       "    </tr>\n",
       "  </thead>\n",
       "  <tbody>\n",
       "    <tr>\n",
       "      <th>20.0mm Ext</th>\n",
       "      <td>150.800000</td>\n",
       "      <td>301.600000</td>\n",
       "      <td>452.400000</td>\n",
       "      <td>603.200000</td>\n",
       "      <td>754.000000</td>\n",
       "    </tr>\n",
       "    <tr>\n",
       "      <th>40.0mm Ext</th>\n",
       "      <td>15.080000</td>\n",
       "      <td>30.160000</td>\n",
       "      <td>45.240000</td>\n",
       "      <td>60.320000</td>\n",
       "      <td>75.400000</td>\n",
       "    </tr>\n",
       "    <tr>\n",
       "      <th>60.0mm Ext</th>\n",
       "      <td>4.501493</td>\n",
       "      <td>9.002985</td>\n",
       "      <td>13.504478</td>\n",
       "      <td>18.005970</td>\n",
       "      <td>22.507463</td>\n",
       "    </tr>\n",
       "    <tr>\n",
       "      <th>80.0mm Ext</th>\n",
       "      <td>1.885000</td>\n",
       "      <td>3.770000</td>\n",
       "      <td>5.655000</td>\n",
       "      <td>7.540000</td>\n",
       "      <td>9.425000</td>\n",
       "    </tr>\n",
       "    <tr>\n",
       "      <th>100.0mm Ext</th>\n",
       "      <td>0.966667</td>\n",
       "      <td>1.933333</td>\n",
       "      <td>2.900000</td>\n",
       "      <td>3.866667</td>\n",
       "      <td>4.833333</td>\n",
       "    </tr>\n",
       "  </tbody>\n",
       "</table>\n",
       "</div>"
      ],
      "text/plain": [
       "                 1.0mpm      2.0mpm      3.0mpm      4.0mpm      5.0mpm\n",
       "20.0mm Ext   150.800000  301.600000  452.400000  603.200000  754.000000\n",
       "40.0mm Ext    15.080000   30.160000   45.240000   60.320000   75.400000\n",
       "60.0mm Ext     4.501493    9.002985   13.504478   18.005970   22.507463\n",
       "80.0mm Ext     1.885000    3.770000    5.655000    7.540000    9.425000\n",
       "100.0mm Ext    0.966667    1.933333    2.900000    3.866667    4.833333"
      ]
     },
     "execution_count": 6,
     "metadata": {},
     "output_type": "execute_result"
    }
   ],
   "source": [
    "req_rpm_table(10, 2, 1000, max_l_speed=5) # `max_l_speed` was used to fit the width of the table"
   ]
  },
  {
   "cell_type": "markdown",
   "metadata": {},
   "source": [
    "### Generate a plot of the required screw RPM in cable extrusion process\n",
    "\n",
    "`req_rpm_plot(outer_d, thickness, s_density, density_ratio=0.85, min_l_speed=1, max_l_speed=10, delta_l_speed=1, min_size=20, max_size=100, delta_size=1, depth_percent=0.05)` generates a plot containing the required screw RPM with respect to extruder size and line speed"
   ]
  },
  {
   "cell_type": "code",
   "execution_count": 7,
   "metadata": {},
   "outputs": [
    {
     "data": {
      "text/html": [
       "\n",
       "<div id=\"altair-viz-31b4e233c173458b9e171bc458f6f9dc\"></div>\n",
       "<script type=\"text/javascript\">\n",
       "  var VEGA_DEBUG = (typeof VEGA_DEBUG == \"undefined\") ? {} : VEGA_DEBUG;\n",
       "  (function(spec, embedOpt){\n",
       "    let outputDiv = document.currentScript.previousElementSibling;\n",
       "    if (outputDiv.id !== \"altair-viz-31b4e233c173458b9e171bc458f6f9dc\") {\n",
       "      outputDiv = document.getElementById(\"altair-viz-31b4e233c173458b9e171bc458f6f9dc\");\n",
       "    }\n",
       "    const paths = {\n",
       "      \"vega\": \"https://cdn.jsdelivr.net/npm//vega@5?noext\",\n",
       "      \"vega-lib\": \"https://cdn.jsdelivr.net/npm//vega-lib?noext\",\n",
       "      \"vega-lite\": \"https://cdn.jsdelivr.net/npm//vega-lite@4.17.0?noext\",\n",
       "      \"vega-embed\": \"https://cdn.jsdelivr.net/npm//vega-embed@6?noext\",\n",
       "    };\n",
       "\n",
       "    function maybeLoadScript(lib, version) {\n",
       "      var key = `${lib.replace(\"-\", \"\")}_version`;\n",
       "      return (VEGA_DEBUG[key] == version) ?\n",
       "        Promise.resolve(paths[lib]) :\n",
       "        new Promise(function(resolve, reject) {\n",
       "          var s = document.createElement('script');\n",
       "          document.getElementsByTagName(\"head\")[0].appendChild(s);\n",
       "          s.async = true;\n",
       "          s.onload = () => {\n",
       "            VEGA_DEBUG[key] = version;\n",
       "            return resolve(paths[lib]);\n",
       "          };\n",
       "          s.onerror = () => reject(`Error loading script: ${paths[lib]}`);\n",
       "          s.src = paths[lib];\n",
       "        });\n",
       "    }\n",
       "\n",
       "    function showError(err) {\n",
       "      outputDiv.innerHTML = `<div class=\"error\" style=\"color:red;\">${err}</div>`;\n",
       "      throw err;\n",
       "    }\n",
       "\n",
       "    function displayChart(vegaEmbed) {\n",
       "      vegaEmbed(outputDiv, spec, embedOpt)\n",
       "        .catch(err => showError(`Javascript Error: ${err.message}<br>This usually means there's a typo in your chart specification. See the javascript console for the full traceback.`));\n",
       "    }\n",
       "\n",
       "    if(typeof define === \"function\" && define.amd) {\n",
       "      requirejs.config({paths});\n",
       "      require([\"vega-embed\"], displayChart, err => showError(`Error loading script: ${err.message}`));\n",
       "    } else {\n",
       "      maybeLoadScript(\"vega\", \"5\")\n",
       "        .then(() => maybeLoadScript(\"vega-lite\", \"4.17.0\"))\n",
       "        .then(() => maybeLoadScript(\"vega-embed\", \"6\"))\n",
       "        .catch(showError)\n",
       "        .then(() => displayChart(vegaEmbed));\n",
       "    }\n",
       "  })({\"config\": {\"view\": {\"continuousWidth\": 400, \"continuousHeight\": 300}, \"axis\": {\"labelFontSize\": 14, \"titleFontSize\": 16}, \"legend\": {\"labelFontSize\": 16, \"titleFontSize\": 14}, \"title\": {\"fontSize\": 18}}, \"data\": {\"name\": \"data-b26b0d181a6cd7d182b4c8289541d045\"}, \"mark\": \"line\", \"encoding\": {\"color\": {\"field\": \"speed\", \"sort\": {\"field\": \"rpm\", \"op\": \"mean\", \"order\": \"descending\"}, \"title\": \"Line Speed [mpm]\", \"type\": \"nominal\"}, \"tooltip\": [{\"field\": \"size\", \"type\": \"quantitative\"}, {\"field\": \"speed\", \"type\": \"nominal\"}, {\"field\": \"rpm\", \"type\": \"quantitative\"}], \"x\": {\"field\": \"size\", \"scale\": {\"domain\": [60, 100]}, \"title\": \"Extruder Size\", \"type\": \"quantitative\"}, \"y\": {\"field\": \"rpm\", \"title\": \"Screw RPM\", \"type\": \"quantitative\"}}, \"title\": \"Screw RPM vs Extruder Size & Line Speed\", \"$schema\": \"https://vega.github.io/schema/vega-lite/v4.17.0.json\", \"datasets\": {\"data-b26b0d181a6cd7d182b4c8289541d045\": [{\"size\": 60.0, \"speed\": 1.0, \"rpm\": 4.501492537313433}, {\"size\": 61.0, \"speed\": 1.0, \"rpm\": 4.2478873239436625}, {\"size\": 62.0, \"speed\": 1.0, \"rpm\": 4.075675675675676}, {\"size\": 63.0, \"speed\": 1.0, \"rpm\": 3.8666666666666667}, {\"size\": 64.0, \"speed\": 1.0, \"rpm\": 3.678048780487805}, {\"size\": 65.0, \"speed\": 1.0, \"rpm\": 3.5069767441860464}, {\"size\": 66.0, \"speed\": 1.0, \"rpm\": 3.351111111111111}, {\"size\": 67.0, \"speed\": 1.0, \"rpm\": 3.2085106382978728}, {\"size\": 68.0, \"speed\": 1.0, \"rpm\": 3.0775510204081633}, {\"size\": 69.0, \"speed\": 1.0, \"rpm\": 2.928155339805825}, {\"size\": 70.0, \"speed\": 1.0, \"rpm\": 2.8186915887850468}, {\"size\": 71.0, \"speed\": 1.0, \"rpm\": 2.6928571428571426}, {\"size\": 72.0, \"speed\": 1.0, \"rpm\": 2.577777777777778}, {\"size\": 73.0, \"speed\": 1.0, \"rpm\": 2.4925619834710746}, {\"size\": 74.0, \"speed\": 1.0, \"rpm\": 2.3748031496062993}, {\"size\": 75.0, \"speed\": 1.0, \"rpm\": 2.2848484848484847}, {\"size\": 76.0, \"speed\": 1.0, \"rpm\": 2.2014598540145984}, {\"size\": 77.0, \"speed\": 1.0, \"rpm\": 2.1090909090909093}, {\"size\": 78.0, \"speed\": 1.0, \"rpm\": 2.037837837837838}, {\"size\": 79.0, \"speed\": 1.0, \"rpm\": 1.9584415584415584}, {\"size\": 80.0, \"speed\": 1.0, \"rpm\": 1.885}, {\"size\": 81.0, \"speed\": 1.0, \"rpm\": 1.8168674698795182}, {\"size\": 82.0, \"speed\": 1.0, \"rpm\": 1.7534883720930232}, {\"size\": 83.0, \"speed\": 1.0, \"rpm\": 1.6849162011173184}, {\"size\": 84.0, \"speed\": 1.0, \"rpm\": 1.6302702702702703}, {\"size\": 85.0, \"speed\": 1.0, \"rpm\": 1.5708333333333333}, {\"size\": 86.0, \"speed\": 1.0, \"rpm\": 1.5155778894472363}, {\"size\": 87.0, \"speed\": 1.0, \"rpm\": 1.4640776699029125}, {\"size\": 88.0, \"speed\": 1.0, \"rpm\": 1.4159624413145542}, {\"size\": 89.0, \"speed\": 1.0, \"rpm\": 1.3709090909090909}, {\"size\": 90.0, \"speed\": 1.0, \"rpm\": 1.3228070175438598}, {\"size\": 91.0, \"speed\": 1.0, \"rpm\": 1.283404255319149}, {\"size\": 92.0, \"speed\": 1.0, \"rpm\": 1.2411522633744856}, {\"size\": 93.0, \"speed\": 1.0, \"rpm\": 1.201593625498008}, {\"size\": 94.0, \"speed\": 1.0, \"rpm\": 1.1644787644787646}, {\"size\": 95.0, \"speed\": 1.0, \"rpm\": 1.1253731343283582}, {\"size\": 96.0, \"speed\": 1.0, \"rpm\": 1.0927536231884059}, {\"size\": 97.0, \"speed\": 1.0, \"rpm\": 1.0582456140350878}, {\"size\": 98.0, \"speed\": 1.0, \"rpm\": 1.0258503401360544}, {\"size\": 99.0, \"speed\": 1.0, \"rpm\": 0.9953795379537954}, {\"size\": 100.0, \"speed\": 1.0, \"rpm\": 0.9666666666666667}, {\"size\": 60.0, \"speed\": 2.0, \"rpm\": 9.002985074626865}, {\"size\": 61.0, \"speed\": 2.0, \"rpm\": 8.495774647887325}, {\"size\": 62.0, \"speed\": 2.0, \"rpm\": 8.151351351351352}, {\"size\": 63.0, \"speed\": 2.0, \"rpm\": 7.733333333333333}, {\"size\": 64.0, \"speed\": 2.0, \"rpm\": 7.35609756097561}, {\"size\": 65.0, \"speed\": 2.0, \"rpm\": 7.013953488372093}, {\"size\": 66.0, \"speed\": 2.0, \"rpm\": 6.702222222222222}, {\"size\": 67.0, \"speed\": 2.0, \"rpm\": 6.4170212765957455}, {\"size\": 68.0, \"speed\": 2.0, \"rpm\": 6.155102040816327}, {\"size\": 69.0, \"speed\": 2.0, \"rpm\": 5.85631067961165}, {\"size\": 70.0, \"speed\": 2.0, \"rpm\": 5.6373831775700936}, {\"size\": 71.0, \"speed\": 2.0, \"rpm\": 5.385714285714285}, {\"size\": 72.0, \"speed\": 2.0, \"rpm\": 5.155555555555556}, {\"size\": 73.0, \"speed\": 2.0, \"rpm\": 4.985123966942149}, {\"size\": 74.0, \"speed\": 2.0, \"rpm\": 4.749606299212599}, {\"size\": 75.0, \"speed\": 2.0, \"rpm\": 4.569696969696969}, {\"size\": 76.0, \"speed\": 2.0, \"rpm\": 4.402919708029197}, {\"size\": 77.0, \"speed\": 2.0, \"rpm\": 4.218181818181819}, {\"size\": 78.0, \"speed\": 2.0, \"rpm\": 4.075675675675676}, {\"size\": 79.0, \"speed\": 2.0, \"rpm\": 3.916883116883117}, {\"size\": 80.0, \"speed\": 2.0, \"rpm\": 3.77}, {\"size\": 81.0, \"speed\": 2.0, \"rpm\": 3.6337349397590364}, {\"size\": 82.0, \"speed\": 2.0, \"rpm\": 3.5069767441860464}, {\"size\": 83.0, \"speed\": 2.0, \"rpm\": 3.369832402234637}, {\"size\": 84.0, \"speed\": 2.0, \"rpm\": 3.2605405405405405}, {\"size\": 85.0, \"speed\": 2.0, \"rpm\": 3.1416666666666666}, {\"size\": 86.0, \"speed\": 2.0, \"rpm\": 3.0311557788944725}, {\"size\": 87.0, \"speed\": 2.0, \"rpm\": 2.928155339805825}, {\"size\": 88.0, \"speed\": 2.0, \"rpm\": 2.8319248826291084}, {\"size\": 89.0, \"speed\": 2.0, \"rpm\": 2.7418181818181817}, {\"size\": 90.0, \"speed\": 2.0, \"rpm\": 2.6456140350877195}, {\"size\": 91.0, \"speed\": 2.0, \"rpm\": 2.566808510638298}, {\"size\": 92.0, \"speed\": 2.0, \"rpm\": 2.482304526748971}, {\"size\": 93.0, \"speed\": 2.0, \"rpm\": 2.403187250996016}, {\"size\": 94.0, \"speed\": 2.0, \"rpm\": 2.3289575289575293}, {\"size\": 95.0, \"speed\": 2.0, \"rpm\": 2.2507462686567163}, {\"size\": 96.0, \"speed\": 2.0, \"rpm\": 2.1855072463768117}, {\"size\": 97.0, \"speed\": 2.0, \"rpm\": 2.1164912280701755}, {\"size\": 98.0, \"speed\": 2.0, \"rpm\": 2.0517006802721087}, {\"size\": 99.0, \"speed\": 2.0, \"rpm\": 1.9907590759075908}, {\"size\": 100.0, \"speed\": 2.0, \"rpm\": 1.9333333333333333}, {\"size\": 60.0, \"speed\": 3.0, \"rpm\": 13.504477611940297}, {\"size\": 61.0, \"speed\": 3.0, \"rpm\": 12.743661971830987}, {\"size\": 62.0, \"speed\": 3.0, \"rpm\": 12.227027027027027}, {\"size\": 63.0, \"speed\": 3.0, \"rpm\": 11.6}, {\"size\": 64.0, \"speed\": 3.0, \"rpm\": 11.034146341463416}, {\"size\": 65.0, \"speed\": 3.0, \"rpm\": 10.52093023255814}, {\"size\": 66.0, \"speed\": 3.0, \"rpm\": 10.053333333333333}, {\"size\": 67.0, \"speed\": 3.0, \"rpm\": 9.625531914893617}, {\"size\": 68.0, \"speed\": 3.0, \"rpm\": 9.23265306122449}, {\"size\": 69.0, \"speed\": 3.0, \"rpm\": 8.784466019417476}, {\"size\": 70.0, \"speed\": 3.0, \"rpm\": 8.45607476635514}, {\"size\": 71.0, \"speed\": 3.0, \"rpm\": 8.078571428571427}, {\"size\": 72.0, \"speed\": 3.0, \"rpm\": 7.733333333333334}, {\"size\": 73.0, \"speed\": 3.0, \"rpm\": 7.477685950413224}, {\"size\": 74.0, \"speed\": 3.0, \"rpm\": 7.124409448818898}, {\"size\": 75.0, \"speed\": 3.0, \"rpm\": 6.8545454545454545}, {\"size\": 76.0, \"speed\": 3.0, \"rpm\": 6.604379562043795}, {\"size\": 77.0, \"speed\": 3.0, \"rpm\": 6.327272727272727}, {\"size\": 78.0, \"speed\": 3.0, \"rpm\": 6.113513513513514}, {\"size\": 79.0, \"speed\": 3.0, \"rpm\": 5.875324675324675}, {\"size\": 80.0, \"speed\": 3.0, \"rpm\": 5.654999999999999}, {\"size\": 81.0, \"speed\": 3.0, \"rpm\": 5.450602409638554}, {\"size\": 82.0, \"speed\": 3.0, \"rpm\": 5.26046511627907}, {\"size\": 83.0, \"speed\": 3.0, \"rpm\": 5.054748603351955}, {\"size\": 84.0, \"speed\": 3.0, \"rpm\": 4.890810810810811}, {\"size\": 85.0, \"speed\": 3.0, \"rpm\": 4.7125}, {\"size\": 86.0, \"speed\": 3.0, \"rpm\": 4.546733668341709}, {\"size\": 87.0, \"speed\": 3.0, \"rpm\": 4.392233009708738}, {\"size\": 88.0, \"speed\": 3.0, \"rpm\": 4.2478873239436625}, {\"size\": 89.0, \"speed\": 3.0, \"rpm\": 4.112727272727272}, {\"size\": 90.0, \"speed\": 3.0, \"rpm\": 3.9684210526315793}, {\"size\": 91.0, \"speed\": 3.0, \"rpm\": 3.8502127659574468}, {\"size\": 92.0, \"speed\": 3.0, \"rpm\": 3.7234567901234565}, {\"size\": 93.0, \"speed\": 3.0, \"rpm\": 3.6047808764940243}, {\"size\": 94.0, \"speed\": 3.0, \"rpm\": 3.4934362934362935}, {\"size\": 95.0, \"speed\": 3.0, \"rpm\": 3.3761194029850743}, {\"size\": 96.0, \"speed\": 3.0, \"rpm\": 3.2782608695652176}, {\"size\": 97.0, \"speed\": 3.0, \"rpm\": 3.174736842105263}, {\"size\": 98.0, \"speed\": 3.0, \"rpm\": 3.0775510204081633}, {\"size\": 99.0, \"speed\": 3.0, \"rpm\": 2.986138613861386}, {\"size\": 100.0, \"speed\": 3.0, \"rpm\": 2.9}, {\"size\": 60.0, \"speed\": 4.0, \"rpm\": 18.00597014925373}, {\"size\": 61.0, \"speed\": 4.0, \"rpm\": 16.99154929577465}, {\"size\": 62.0, \"speed\": 4.0, \"rpm\": 16.302702702702703}, {\"size\": 63.0, \"speed\": 4.0, \"rpm\": 15.466666666666667}, {\"size\": 64.0, \"speed\": 4.0, \"rpm\": 14.71219512195122}, {\"size\": 65.0, \"speed\": 4.0, \"rpm\": 14.027906976744186}, {\"size\": 66.0, \"speed\": 4.0, \"rpm\": 13.404444444444444}, {\"size\": 67.0, \"speed\": 4.0, \"rpm\": 12.834042553191491}, {\"size\": 68.0, \"speed\": 4.0, \"rpm\": 12.310204081632653}, {\"size\": 69.0, \"speed\": 4.0, \"rpm\": 11.7126213592233}, {\"size\": 70.0, \"speed\": 4.0, \"rpm\": 11.274766355140187}, {\"size\": 71.0, \"speed\": 4.0, \"rpm\": 10.77142857142857}, {\"size\": 72.0, \"speed\": 4.0, \"rpm\": 10.311111111111112}, {\"size\": 73.0, \"speed\": 4.0, \"rpm\": 9.970247933884298}, {\"size\": 74.0, \"speed\": 4.0, \"rpm\": 9.499212598425197}, {\"size\": 75.0, \"speed\": 4.0, \"rpm\": 9.139393939393939}, {\"size\": 76.0, \"speed\": 4.0, \"rpm\": 8.805839416058394}, {\"size\": 77.0, \"speed\": 4.0, \"rpm\": 8.436363636363637}, {\"size\": 78.0, \"speed\": 4.0, \"rpm\": 8.151351351351352}, {\"size\": 79.0, \"speed\": 4.0, \"rpm\": 7.833766233766234}, {\"size\": 80.0, \"speed\": 4.0, \"rpm\": 7.54}, {\"size\": 81.0, \"speed\": 4.0, \"rpm\": 7.267469879518073}, {\"size\": 82.0, \"speed\": 4.0, \"rpm\": 7.013953488372093}, {\"size\": 83.0, \"speed\": 4.0, \"rpm\": 6.739664804469274}, {\"size\": 84.0, \"speed\": 4.0, \"rpm\": 6.521081081081081}, {\"size\": 85.0, \"speed\": 4.0, \"rpm\": 6.283333333333333}, {\"size\": 86.0, \"speed\": 4.0, \"rpm\": 6.062311557788945}, {\"size\": 87.0, \"speed\": 4.0, \"rpm\": 5.85631067961165}, {\"size\": 88.0, \"speed\": 4.0, \"rpm\": 5.663849765258217}, {\"size\": 89.0, \"speed\": 4.0, \"rpm\": 5.483636363636363}, {\"size\": 90.0, \"speed\": 4.0, \"rpm\": 5.291228070175439}, {\"size\": 91.0, \"speed\": 4.0, \"rpm\": 5.133617021276596}, {\"size\": 92.0, \"speed\": 4.0, \"rpm\": 4.964609053497942}, {\"size\": 93.0, \"speed\": 4.0, \"rpm\": 4.806374501992032}, {\"size\": 94.0, \"speed\": 4.0, \"rpm\": 4.6579150579150586}, {\"size\": 95.0, \"speed\": 4.0, \"rpm\": 4.501492537313433}, {\"size\": 96.0, \"speed\": 4.0, \"rpm\": 4.371014492753623}, {\"size\": 97.0, \"speed\": 4.0, \"rpm\": 4.232982456140351}, {\"size\": 98.0, \"speed\": 4.0, \"rpm\": 4.1034013605442174}, {\"size\": 99.0, \"speed\": 4.0, \"rpm\": 3.9815181518151816}, {\"size\": 100.0, \"speed\": 4.0, \"rpm\": 3.8666666666666667}, {\"size\": 60.0, \"speed\": 5.0, \"rpm\": 22.507462686567163}, {\"size\": 61.0, \"speed\": 5.0, \"rpm\": 21.23943661971831}, {\"size\": 62.0, \"speed\": 5.0, \"rpm\": 20.37837837837838}, {\"size\": 63.0, \"speed\": 5.0, \"rpm\": 19.333333333333332}, {\"size\": 64.0, \"speed\": 5.0, \"rpm\": 18.390243902439025}, {\"size\": 65.0, \"speed\": 5.0, \"rpm\": 17.53488372093023}, {\"size\": 66.0, \"speed\": 5.0, \"rpm\": 16.755555555555556}, {\"size\": 67.0, \"speed\": 5.0, \"rpm\": 16.04255319148936}, {\"size\": 68.0, \"speed\": 5.0, \"rpm\": 15.387755102040817}, {\"size\": 69.0, \"speed\": 5.0, \"rpm\": 14.640776699029125}, {\"size\": 70.0, \"speed\": 5.0, \"rpm\": 14.093457943925232}, {\"size\": 71.0, \"speed\": 5.0, \"rpm\": 13.464285714285714}, {\"size\": 72.0, \"speed\": 5.0, \"rpm\": 12.88888888888889}, {\"size\": 73.0, \"speed\": 5.0, \"rpm\": 12.462809917355372}, {\"size\": 74.0, \"speed\": 5.0, \"rpm\": 11.874015748031496}, {\"size\": 75.0, \"speed\": 5.0, \"rpm\": 11.424242424242424}, {\"size\": 76.0, \"speed\": 5.0, \"rpm\": 11.007299270072991}, {\"size\": 77.0, \"speed\": 5.0, \"rpm\": 10.545454545454547}, {\"size\": 78.0, \"speed\": 5.0, \"rpm\": 10.18918918918919}, {\"size\": 79.0, \"speed\": 5.0, \"rpm\": 9.792207792207792}, {\"size\": 80.0, \"speed\": 5.0, \"rpm\": 9.424999999999999}, {\"size\": 81.0, \"speed\": 5.0, \"rpm\": 9.084337349397591}, {\"size\": 82.0, \"speed\": 5.0, \"rpm\": 8.767441860465116}, {\"size\": 83.0, \"speed\": 5.0, \"rpm\": 8.424581005586592}, {\"size\": 84.0, \"speed\": 5.0, \"rpm\": 8.151351351351352}, {\"size\": 85.0, \"speed\": 5.0, \"rpm\": 7.854166666666667}, {\"size\": 86.0, \"speed\": 5.0, \"rpm\": 7.577889447236181}, {\"size\": 87.0, \"speed\": 5.0, \"rpm\": 7.3203883495145625}, {\"size\": 88.0, \"speed\": 5.0, \"rpm\": 7.07981220657277}, {\"size\": 89.0, \"speed\": 5.0, \"rpm\": 6.854545454545454}, {\"size\": 90.0, \"speed\": 5.0, \"rpm\": 6.614035087719299}, {\"size\": 91.0, \"speed\": 5.0, \"rpm\": 6.417021276595745}, {\"size\": 92.0, \"speed\": 5.0, \"rpm\": 6.205761316872428}, {\"size\": 93.0, \"speed\": 5.0, \"rpm\": 6.007968127490041}, {\"size\": 94.0, \"speed\": 5.0, \"rpm\": 5.822393822393822}, {\"size\": 95.0, \"speed\": 5.0, \"rpm\": 5.626865671641791}, {\"size\": 96.0, \"speed\": 5.0, \"rpm\": 5.463768115942029}, {\"size\": 97.0, \"speed\": 5.0, \"rpm\": 5.291228070175438}, {\"size\": 98.0, \"speed\": 5.0, \"rpm\": 5.129251700680272}, {\"size\": 99.0, \"speed\": 5.0, \"rpm\": 4.976897689768977}, {\"size\": 100.0, \"speed\": 5.0, \"rpm\": 4.833333333333333}, {\"size\": 60.0, \"speed\": 6.0, \"rpm\": 27.008955223880594}, {\"size\": 61.0, \"speed\": 6.0, \"rpm\": 25.487323943661973}, {\"size\": 62.0, \"speed\": 6.0, \"rpm\": 24.454054054054055}, {\"size\": 63.0, \"speed\": 6.0, \"rpm\": 23.2}, {\"size\": 64.0, \"speed\": 6.0, \"rpm\": 22.06829268292683}, {\"size\": 65.0, \"speed\": 6.0, \"rpm\": 21.04186046511628}, {\"size\": 66.0, \"speed\": 6.0, \"rpm\": 20.106666666666666}, {\"size\": 67.0, \"speed\": 6.0, \"rpm\": 19.251063829787235}, {\"size\": 68.0, \"speed\": 6.0, \"rpm\": 18.46530612244898}, {\"size\": 69.0, \"speed\": 6.0, \"rpm\": 17.56893203883495}, {\"size\": 70.0, \"speed\": 6.0, \"rpm\": 16.91214953271028}, {\"size\": 71.0, \"speed\": 6.0, \"rpm\": 16.157142857142855}, {\"size\": 72.0, \"speed\": 6.0, \"rpm\": 15.466666666666669}, {\"size\": 73.0, \"speed\": 6.0, \"rpm\": 14.955371900826448}, {\"size\": 74.0, \"speed\": 6.0, \"rpm\": 14.248818897637795}, {\"size\": 75.0, \"speed\": 6.0, \"rpm\": 13.709090909090909}, {\"size\": 76.0, \"speed\": 6.0, \"rpm\": 13.20875912408759}, {\"size\": 77.0, \"speed\": 6.0, \"rpm\": 12.654545454545454}, {\"size\": 78.0, \"speed\": 6.0, \"rpm\": 12.227027027027027}, {\"size\": 79.0, \"speed\": 6.0, \"rpm\": 11.75064935064935}, {\"size\": 80.0, \"speed\": 6.0, \"rpm\": 11.309999999999999}, {\"size\": 81.0, \"speed\": 6.0, \"rpm\": 10.901204819277108}, {\"size\": 82.0, \"speed\": 6.0, \"rpm\": 10.52093023255814}, {\"size\": 83.0, \"speed\": 6.0, \"rpm\": 10.10949720670391}, {\"size\": 84.0, \"speed\": 6.0, \"rpm\": 9.781621621621621}, {\"size\": 85.0, \"speed\": 6.0, \"rpm\": 9.425}, {\"size\": 86.0, \"speed\": 6.0, \"rpm\": 9.093467336683418}, {\"size\": 87.0, \"speed\": 6.0, \"rpm\": 8.784466019417476}, {\"size\": 88.0, \"speed\": 6.0, \"rpm\": 8.495774647887325}, {\"size\": 89.0, \"speed\": 6.0, \"rpm\": 8.225454545454545}, {\"size\": 90.0, \"speed\": 6.0, \"rpm\": 7.936842105263159}, {\"size\": 91.0, \"speed\": 6.0, \"rpm\": 7.7004255319148935}, {\"size\": 92.0, \"speed\": 6.0, \"rpm\": 7.446913580246913}, {\"size\": 93.0, \"speed\": 6.0, \"rpm\": 7.209561752988049}, {\"size\": 94.0, \"speed\": 6.0, \"rpm\": 6.986872586872587}, {\"size\": 95.0, \"speed\": 6.0, \"rpm\": 6.752238805970149}, {\"size\": 96.0, \"speed\": 6.0, \"rpm\": 6.556521739130435}, {\"size\": 97.0, \"speed\": 6.0, \"rpm\": 6.349473684210526}, {\"size\": 98.0, \"speed\": 6.0, \"rpm\": 6.155102040816327}, {\"size\": 99.0, \"speed\": 6.0, \"rpm\": 5.972277227722772}, {\"size\": 100.0, \"speed\": 6.0, \"rpm\": 5.8}, {\"size\": 60.0, \"speed\": 7.0, \"rpm\": 31.510447761194026}, {\"size\": 61.0, \"speed\": 7.0, \"rpm\": 29.73521126760563}, {\"size\": 62.0, \"speed\": 7.0, \"rpm\": 28.529729729729727}, {\"size\": 63.0, \"speed\": 7.0, \"rpm\": 27.066666666666663}, {\"size\": 64.0, \"speed\": 7.0, \"rpm\": 25.746341463414634}, {\"size\": 65.0, \"speed\": 7.0, \"rpm\": 24.548837209302324}, {\"size\": 66.0, \"speed\": 7.0, \"rpm\": 23.457777777777775}, {\"size\": 67.0, \"speed\": 7.0, \"rpm\": 22.459574468085105}, {\"size\": 68.0, \"speed\": 7.0, \"rpm\": 21.54285714285714}, {\"size\": 69.0, \"speed\": 7.0, \"rpm\": 20.497087378640774}, {\"size\": 70.0, \"speed\": 7.0, \"rpm\": 19.730841121495324}, {\"size\": 71.0, \"speed\": 7.0, \"rpm\": 18.849999999999998}, {\"size\": 72.0, \"speed\": 7.0, \"rpm\": 18.044444444444444}, {\"size\": 73.0, \"speed\": 7.0, \"rpm\": 17.44793388429752}, {\"size\": 74.0, \"speed\": 7.0, \"rpm\": 16.623622047244094}, {\"size\": 75.0, \"speed\": 7.0, \"rpm\": 15.993939393939392}, {\"size\": 76.0, \"speed\": 7.0, \"rpm\": 15.410218978102188}, {\"size\": 77.0, \"speed\": 7.0, \"rpm\": 14.763636363636364}, {\"size\": 78.0, \"speed\": 7.0, \"rpm\": 14.264864864864863}, {\"size\": 79.0, \"speed\": 7.0, \"rpm\": 13.709090909090907}, {\"size\": 80.0, \"speed\": 7.0, \"rpm\": 13.194999999999999}, {\"size\": 81.0, \"speed\": 7.0, \"rpm\": 12.718072289156627}, {\"size\": 82.0, \"speed\": 7.0, \"rpm\": 12.274418604651162}, {\"size\": 83.0, \"speed\": 7.0, \"rpm\": 11.794413407821228}, {\"size\": 84.0, \"speed\": 7.0, \"rpm\": 11.41189189189189}, {\"size\": 85.0, \"speed\": 7.0, \"rpm\": 10.995833333333334}, {\"size\": 86.0, \"speed\": 7.0, \"rpm\": 10.609045226130652}, {\"size\": 87.0, \"speed\": 7.0, \"rpm\": 10.248543689320387}, {\"size\": 88.0, \"speed\": 7.0, \"rpm\": 9.911737089201878}, {\"size\": 89.0, \"speed\": 7.0, \"rpm\": 9.596363636363634}, {\"size\": 90.0, \"speed\": 7.0, \"rpm\": 9.259649122807017}, {\"size\": 91.0, \"speed\": 7.0, \"rpm\": 8.983829787234042}, {\"size\": 92.0, \"speed\": 7.0, \"rpm\": 8.688065843621398}, {\"size\": 93.0, \"speed\": 7.0, \"rpm\": 8.411155378486056}, {\"size\": 94.0, \"speed\": 7.0, \"rpm\": 8.151351351351352}, {\"size\": 95.0, \"speed\": 7.0, \"rpm\": 7.8776119402985065}, {\"size\": 96.0, \"speed\": 7.0, \"rpm\": 7.649275362318841}, {\"size\": 97.0, \"speed\": 7.0, \"rpm\": 7.407719298245613}, {\"size\": 98.0, \"speed\": 7.0, \"rpm\": 7.18095238095238}, {\"size\": 99.0, \"speed\": 7.0, \"rpm\": 6.967656765676567}, {\"size\": 100.0, \"speed\": 7.0, \"rpm\": 6.766666666666666}, {\"size\": 60.0, \"speed\": 8.0, \"rpm\": 36.01044776119402}, {\"size\": 61.0, \"speed\": 8.0, \"rpm\": 33.98169014084507}, {\"size\": 62.0, \"speed\": 8.0, \"rpm\": 32.60405405405405}, {\"size\": 63.0, \"speed\": 8.0, \"rpm\": 30.93205128205128}, {\"size\": 64.0, \"speed\": 8.0, \"rpm\": 29.423170731707316}, {\"size\": 65.0, \"speed\": 8.0, \"rpm\": 28.054651162790698}, {\"size\": 66.0, \"speed\": 8.0, \"rpm\": 26.807777777777776}, {\"size\": 67.0, \"speed\": 8.0, \"rpm\": 25.667021276595744}, {\"size\": 68.0, \"speed\": 8.0, \"rpm\": 24.61938775510204}, {\"size\": 69.0, \"speed\": 8.0, \"rpm\": 23.424271844660193}, {\"size\": 70.0, \"speed\": 8.0, \"rpm\": 22.548598130841118}, {\"size\": 71.0, \"speed\": 8.0, \"rpm\": 21.541964285714283}, {\"size\": 72.0, \"speed\": 8.0, \"rpm\": 20.62136752136752}, {\"size\": 73.0, \"speed\": 8.0, \"rpm\": 19.939669421487604}, {\"size\": 74.0, \"speed\": 8.0, \"rpm\": 18.99763779527559}, {\"size\": 75.0, \"speed\": 8.0, \"rpm\": 18.278030303030302}, {\"size\": 76.0, \"speed\": 8.0, \"rpm\": 17.61094890510949}, {\"size\": 77.0, \"speed\": 8.0, \"rpm\": 16.872027972027972}, {\"size\": 78.0, \"speed\": 8.0, \"rpm\": 16.302027027027027}, {\"size\": 79.0, \"speed\": 8.0, \"rpm\": 15.666883116883115}, {\"size\": 80.0, \"speed\": 8.0, \"rpm\": 15.079374999999999}, {\"size\": 81.0, \"speed\": 8.0, \"rpm\": 14.53433734939759}, {\"size\": 82.0, \"speed\": 8.0, \"rpm\": 14.027325581395349}, {\"size\": 83.0, \"speed\": 8.0, \"rpm\": 13.47877094972067}, {\"size\": 84.0, \"speed\": 8.0, \"rpm\": 13.041621621621621}, {\"size\": 85.0, \"speed\": 8.0, \"rpm\": 12.566145833333334}, {\"size\": 86.0, \"speed\": 8.0, \"rpm\": 12.124120603015076}, {\"size\": 87.0, \"speed\": 8.0, \"rpm\": 11.712135922330097}, {\"size\": 88.0, \"speed\": 8.0, \"rpm\": 11.327230046948356}, {\"size\": 89.0, \"speed\": 8.0, \"rpm\": 10.96681818181818}, {\"size\": 90.0, \"speed\": 8.0, \"rpm\": 10.58201754385965}, {\"size\": 91.0, \"speed\": 8.0, \"rpm\": 10.266808510638297}, {\"size\": 92.0, \"speed\": 8.0, \"rpm\": 9.928806584362139}, {\"size\": 93.0, \"speed\": 8.0, \"rpm\": 9.612350597609563}, {\"size\": 94.0, \"speed\": 8.0, \"rpm\": 9.315444015444015}, {\"size\": 95.0, \"speed\": 8.0, \"rpm\": 9.002611940298506}, {\"size\": 96.0, \"speed\": 8.0, \"rpm\": 8.741666666666667}, {\"size\": 97.0, \"speed\": 8.0, \"rpm\": 8.465614035087718}, {\"size\": 98.0, \"speed\": 8.0, \"rpm\": 8.206462585034012}, {\"size\": 99.0, \"speed\": 8.0, \"rpm\": 7.962706270627063}, {\"size\": 100.0, \"speed\": 8.0, \"rpm\": 7.73301282051282}, {\"size\": 60.0, \"speed\": 9.0, \"rpm\": 40.51194029850746}, {\"size\": 61.0, \"speed\": 9.0, \"rpm\": 38.22957746478873}, {\"size\": 62.0, \"speed\": 9.0, \"rpm\": 36.67972972972973}, {\"size\": 63.0, \"speed\": 9.0, \"rpm\": 34.79871794871795}, {\"size\": 64.0, \"speed\": 9.0, \"rpm\": 33.10121951219512}, {\"size\": 65.0, \"speed\": 9.0, \"rpm\": 31.561627906976746}, {\"size\": 66.0, \"speed\": 9.0, \"rpm\": 30.15888888888889}, {\"size\": 67.0, \"speed\": 9.0, \"rpm\": 28.87553191489362}, {\"size\": 68.0, \"speed\": 9.0, \"rpm\": 27.696938775510205}, {\"size\": 69.0, \"speed\": 9.0, \"rpm\": 26.35242718446602}, {\"size\": 70.0, \"speed\": 9.0, \"rpm\": 25.367289719626168}, {\"size\": 71.0, \"speed\": 9.0, \"rpm\": 24.234821428571426}, {\"size\": 72.0, \"speed\": 9.0, \"rpm\": 23.1991452991453}, {\"size\": 73.0, \"speed\": 9.0, \"rpm\": 22.432231404958678}, {\"size\": 74.0, \"speed\": 9.0, \"rpm\": 21.37244094488189}, {\"size\": 75.0, \"speed\": 9.0, \"rpm\": 20.562878787878788}, {\"size\": 76.0, \"speed\": 9.0, \"rpm\": 19.812408759124086}, {\"size\": 77.0, \"speed\": 9.0, \"rpm\": 18.98111888111888}, {\"size\": 78.0, \"speed\": 9.0, \"rpm\": 18.339864864864865}, {\"size\": 79.0, \"speed\": 9.0, \"rpm\": 17.625324675324677}, {\"size\": 80.0, \"speed\": 9.0, \"rpm\": 16.964375}, {\"size\": 81.0, \"speed\": 9.0, \"rpm\": 16.35120481927711}, {\"size\": 82.0, \"speed\": 9.0, \"rpm\": 15.780813953488373}, {\"size\": 83.0, \"speed\": 9.0, \"rpm\": 15.163687150837989}, {\"size\": 84.0, \"speed\": 9.0, \"rpm\": 14.671891891891892}, {\"size\": 85.0, \"speed\": 9.0, \"rpm\": 14.136979166666668}, {\"size\": 86.0, \"speed\": 9.0, \"rpm\": 13.639698492462312}, {\"size\": 87.0, \"speed\": 9.0, \"rpm\": 13.17621359223301}, {\"size\": 88.0, \"speed\": 9.0, \"rpm\": 12.743192488262912}, {\"size\": 89.0, \"speed\": 9.0, \"rpm\": 12.337727272727273}, {\"size\": 90.0, \"speed\": 9.0, \"rpm\": 11.90482456140351}, {\"size\": 91.0, \"speed\": 9.0, \"rpm\": 11.550212765957447}, {\"size\": 92.0, \"speed\": 9.0, \"rpm\": 11.169958847736625}, {\"size\": 93.0, \"speed\": 9.0, \"rpm\": 10.81394422310757}, {\"size\": 94.0, \"speed\": 9.0, \"rpm\": 10.47992277992278}, {\"size\": 95.0, \"speed\": 9.0, \"rpm\": 10.127985074626865}, {\"size\": 96.0, \"speed\": 9.0, \"rpm\": 9.834420289855073}, {\"size\": 97.0, \"speed\": 9.0, \"rpm\": 9.523859649122807}, {\"size\": 98.0, \"speed\": 9.0, \"rpm\": 9.232312925170069}, {\"size\": 99.0, \"speed\": 9.0, \"rpm\": 8.95808580858086}, {\"size\": 100.0, \"speed\": 9.0, \"rpm\": 8.699679487179488}, {\"size\": 60.0, \"speed\": 10.0, \"rpm\": 45.01343283582089}, {\"size\": 61.0, \"speed\": 10.0, \"rpm\": 42.4774647887324}, {\"size\": 62.0, \"speed\": 10.0, \"rpm\": 40.755405405405405}, {\"size\": 63.0, \"speed\": 10.0, \"rpm\": 38.66538461538461}, {\"size\": 64.0, \"speed\": 10.0, \"rpm\": 36.77926829268293}, {\"size\": 65.0, \"speed\": 10.0, \"rpm\": 35.06860465116279}, {\"size\": 66.0, \"speed\": 10.0, \"rpm\": 33.51}, {\"size\": 67.0, \"speed\": 10.0, \"rpm\": 32.08404255319149}, {\"size\": 68.0, \"speed\": 10.0, \"rpm\": 30.774489795918367}, {\"size\": 69.0, \"speed\": 10.0, \"rpm\": 29.280582524271843}, {\"size\": 70.0, \"speed\": 10.0, \"rpm\": 28.18598130841121}, {\"size\": 71.0, \"speed\": 10.0, \"rpm\": 26.92767857142857}, {\"size\": 72.0, \"speed\": 10.0, \"rpm\": 25.776923076923076}, {\"size\": 73.0, \"speed\": 10.0, \"rpm\": 24.92479338842975}, {\"size\": 74.0, \"speed\": 10.0, \"rpm\": 23.747244094488188}, {\"size\": 75.0, \"speed\": 10.0, \"rpm\": 22.84772727272727}, {\"size\": 76.0, \"speed\": 10.0, \"rpm\": 22.013868613138683}, {\"size\": 77.0, \"speed\": 10.0, \"rpm\": 21.09020979020979}, {\"size\": 78.0, \"speed\": 10.0, \"rpm\": 20.377702702702702}, {\"size\": 79.0, \"speed\": 10.0, \"rpm\": 19.583766233766234}, {\"size\": 80.0, \"speed\": 10.0, \"rpm\": 18.849375}, {\"size\": 81.0, \"speed\": 10.0, \"rpm\": 18.168072289156626}, {\"size\": 82.0, \"speed\": 10.0, \"rpm\": 17.534302325581393}, {\"size\": 83.0, \"speed\": 10.0, \"rpm\": 16.848603351955305}, {\"size\": 84.0, \"speed\": 10.0, \"rpm\": 16.302162162162162}, {\"size\": 85.0, \"speed\": 10.0, \"rpm\": 15.7078125}, {\"size\": 86.0, \"speed\": 10.0, \"rpm\": 15.155276381909546}, {\"size\": 87.0, \"speed\": 10.0, \"rpm\": 14.640291262135921}, {\"size\": 88.0, \"speed\": 10.0, \"rpm\": 14.159154929577465}, {\"size\": 89.0, \"speed\": 10.0, \"rpm\": 13.708636363636362}, {\"size\": 90.0, \"speed\": 10.0, \"rpm\": 13.227631578947369}, {\"size\": 91.0, \"speed\": 10.0, \"rpm\": 12.833617021276595}, {\"size\": 92.0, \"speed\": 10.0, \"rpm\": 12.41111111111111}, {\"size\": 93.0, \"speed\": 10.0, \"rpm\": 12.015537848605579}, {\"size\": 94.0, \"speed\": 10.0, \"rpm\": 11.644401544401545}, {\"size\": 95.0, \"speed\": 10.0, \"rpm\": 11.253358208955223}, {\"size\": 96.0, \"speed\": 10.0, \"rpm\": 10.927173913043479}, {\"size\": 97.0, \"speed\": 10.0, \"rpm\": 10.582105263157894}, {\"size\": 98.0, \"speed\": 10.0, \"rpm\": 10.258163265306122}, {\"size\": 99.0, \"speed\": 10.0, \"rpm\": 9.953465346534653}, {\"size\": 100.0, \"speed\": 10.0, \"rpm\": 9.666346153846153}]}}, {\"mode\": \"vega-lite\"});\n",
       "</script>"
      ],
      "text/plain": [
       "alt.Chart(...)"
      ]
     },
     "execution_count": 7,
     "metadata": {},
     "output_type": "execute_result"
    }
   ],
   "source": [
    "req_rpm_plot(10, 2, 1000, min_size=60) # min_size was used to make the plot look better "
   ]
  },
  {
   "cell_type": "code",
   "execution_count": null,
   "metadata": {},
   "outputs": [],
   "source": []
  }
 ],
 "metadata": {
  "kernelspec": {
   "display_name": "Python 3 (ipykernel)",
   "language": "python",
   "name": "python3"
  },
  "language_info": {
   "codemirror_mode": {
    "name": "ipython",
    "version": 3
   },
   "file_extension": ".py",
   "mimetype": "text/x-python",
   "name": "python",
   "nbconvert_exporter": "python",
   "pygments_lexer": "ipython3",
   "version": "3.9.10"
  }
 },
 "nbformat": 4,
 "nbformat_minor": 4
}
