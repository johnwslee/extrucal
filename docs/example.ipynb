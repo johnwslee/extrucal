{
 "cells": [
  {
   "cell_type": "markdown",
   "metadata": {},
   "source": [
    "# Example usage\n",
    "\n",
    "To use `extrucal` in a project:"
   ]
  },
  {
   "cell_type": "code",
   "execution_count": 1,
   "metadata": {},
   "outputs": [
    {
     "name": "stdout",
     "output_type": "stream",
     "text": [
      "0.1.0\n"
     ]
    }
   ],
   "source": [
    "import extrucal\n",
    "\n",
    "print(extrucal.__version__)"
   ]
  },
  {
   "cell_type": "code",
   "execution_count": 2,
   "metadata": {},
   "outputs": [],
   "source": [
    "import pandas as pd\n",
    "import numpy as np"
   ]
  },
  {
   "cell_type": "code",
   "execution_count": null,
   "metadata": {},
   "outputs": [],
   "source": [
    "def output_per_rpm(size, pitch, depth):\n",
    "    \"\"\"\n",
    "    Calculates the volumetric throughput per rpm given the screw size, \n",
    "    the channel depth of metering channel, and screw pitch\n",
    "    ----------\n",
    "    size  : float\n",
    "            screw size\n",
    "    pitch : flot\n",
    "            screw pitch\n",
    "    depth : float\n",
    "            the channel depth of metering section\n",
    "\n",
    "    Returns\n",
    "    -------\n",
    "    float : volumetric throughput per rpm\n",
    "\n",
    "    Examples\n",
    "    --------\n",
    "    >>> output_per_rpm(size=100, pitch=10, depth=5)\n",
    "    \"\"\"\n",
    "\n",
    "\n"
   ]
  },
  {
   "cell_type": "code",
   "execution_count": null,
   "metadata": {},
   "outputs": [],
   "source": [
    "def output_table(size, pitch, min_depth, max_depth, delta_depth, min_rpm, max_rpm, delta_rpm):\n",
    "    \"\"\"\n",
    "    Calculates the volumetric throughput per rpm given the screw size, \n",
    "    the channel depth of metering channel, and screw pitch\n",
    "    ----------\n",
    "    size        : float\n",
    "                  screw size\n",
    "    pitch       : flot\n",
    "                  screw pitch\n",
    "    min_depth   : float\n",
    "                  minimum depth for calculation\n",
    "    max_depth   : float\n",
    "                  maximum depth for calculation\n",
    "    delta_depth : float\n",
    "                  the amount of increment in depth for calculation\n",
    "    min_rpm     : float\n",
    "                  minimum screw RPM for calculation\n",
    "    max_rpm     : float\n",
    "                  maximum screw RPM for calculation\n",
    "    delta_rpm   : float\n",
    "                  the amount of increment in RPM for calculation\n",
    "\n",
    "    Returns\n",
    "    -------\n",
    "    table : pandas.DataFrame\n",
    "            dataframe containing the throughput as a function of channel depth and screw RPM\n",
    "\n",
    "    Examples\n",
    "    --------\n",
    "    >>> output_table(size=100, pitch=10, min_depth=3, max_depth=7, delta_depth=1, min_rpm=10, max_rpm=50, delta_rpm=10)\n",
    "    \"\"\""
   ]
  },
  {
   "cell_type": "code",
   "execution_count": null,
   "metadata": {},
   "outputs": [],
   "source": [
    "def output_plot(size, pitch, min_depth, max_depth, delta_depth, min_rpm, max_rpm, delta_rpm):\n",
    "    \"\"\"\n",
    "    Calculates the volumetric throughput per rpm given the screw size, \n",
    "    the channel depth of metering channel, and screw pitch\n",
    "    ----------\n",
    "    size        : float\n",
    "                  screw size\n",
    "    pitch       : flot\n",
    "                  screw pitch\n",
    "    min_depth   : float\n",
    "                  minimum depth for calculation\n",
    "    max_depth   : float\n",
    "                  maximum depth for calculation\n",
    "    delta_depth : float\n",
    "                  the amount of increment in depth for calculation\n",
    "    min_rpm     : float\n",
    "                  minimum screw RPM for calculation\n",
    "    max_rpm     : float\n",
    "                  maximum screw RPM for calculation\n",
    "    delta_rpm   : float\n",
    "                  the amount of increment in RPM for calculation\n",
    "\n",
    "    Returns\n",
    "    -------\n",
    "    plot : altair.Chart object\n",
    "           a line chart showing the throughput as a function of channel depth and screw RPM\n",
    "\n",
    "    Examples\n",
    "    --------\n",
    "    >>> output_plot(size=100, pitch=10, min_depth=3, max_depth=7, delta_depth=1, min_rpm=10, max_rpm=50, delta_rpm=10)\n",
    "    \"\"\""
   ]
  }
 ],
 "metadata": {
  "kernelspec": {
   "display_name": "Python [conda env:extrucal]",
   "language": "python",
   "name": "conda-env-extrucal-py"
  },
  "language_info": {
   "codemirror_mode": {
    "name": "ipython",
    "version": 3
   },
   "file_extension": ".py",
   "mimetype": "text/x-python",
   "name": "python",
   "nbconvert_exporter": "python",
   "pygments_lexer": "ipython3",
   "version": "3.9.10"
  }
 },
 "nbformat": 4,
 "nbformat_minor": 4
}
